{
 "cells": [
  {
   "cell_type": "code",
   "execution_count": 1,
   "id": "bbde28f6",
   "metadata": {},
   "outputs": [],
   "source": [
    "import plotly.graph_objects as go\n",
    "import copy as cp\n",
    "from pprint import pprint\n",
    "from gurobipy import *\n",
    "from random import *\n",
    "import numpy as np\n",
    "from numpy import *\n",
    "import matplotlib.pyplot as plt\n",
    "import time\n",
    "from itertools import groupby,chain\n",
    "import itertools\n",
    "import pandas as pd\n",
    "from pandas import *\n",
    "import networkx as nx\n",
    "import random\n",
    "from random import shuffle\n",
    "from itertools import chain\n",
    "import string\n",
    "import json\n",
    "from dataclasses import dataclass\n",
    "import uuid\n",
    "import bisect\n",
    "from datetime import datetime"
   ]
  },
  {
   "cell_type": "code",
   "execution_count": 2,
   "id": "a292b69a",
   "metadata": {},
   "outputs": [],
   "source": [
    "delta = 0.05\n",
    "update_interval = 2\n",
    "rcl_parameter = 0.3\n",
    "llambda = 0.7"
   ]
  },
  {
   "cell_type": "code",
   "execution_count": 3,
   "id": "e6b42e9e",
   "metadata": {},
   "outputs": [],
   "source": [
    "graph_top_left = [x for x in chain(range(0,11), range(27,38),range(54,65),range(81,92),range(108,119),range(135,146),range(162,173),range(189,200),range(216,227),range(243,254),range(270,281),range(297,308),range(324,335),range(351,362))]\n",
    "graph_top_right = [x for x in chain(range(378,389),range(405,416),range(432,443),range(459,470),range(486,497),range(513,524),range(540,551),range(567,578),range(594,605),range(621,632),range(648,658),range(675,686),range(702,712))]\n",
    "graph_center = [x for x in chain(range(200,208), range(227,234),range(253,261),range(281,289),range(308,316),range(335,343),range(362,370),range(389,397),range(416,424),range(443,451),range(470,478),range(497,505),range(524,532))]\n",
    "graph_left  = [x for x in chain(range(11,19), range(38,46),range(65,73),range(92,100),range(119,127),range(146,154),range(173,181))]\n",
    "graph_right = [x for x in chain(range(551,559), range(578,586),range(605,613),range(632,640),range(659,667),range(686,694),range(713,721))]\n",
    "graph_bottom_left = [x for x in chain(range(19,27), range(46,54),range(73,81),range(100,108),range(127,135),range(154,162),range(181,189),range(208,216),range(235,243),range(262,270),range(289,297),range(316,324),range(343,351),range(370,378))]\n",
    "graph_bottom_right = [x for x in chain(range(397,405),range(424,432),range(451,459),range(478,486),range(505,513),range(532,540),range(559,567),range(586,594),range(613,621),range(640,648),range(667,675),range(694,702),range(721,728))]"
   ]
  },
  {
   "cell_type": "code",
   "execution_count": 968,
   "id": "476c07cf",
   "metadata": {},
   "outputs": [],
   "source": [
    "N = 27\n",
    "G1 = nx.grid_2d_graph(N,N)\n",
    "\n",
    "labels=dict(((i,j),i + (N-1-j)*N) for i, j in G1.nodes())\n",
    "nx.relabel_nodes(G1,labels,False) #False=relabel the nodes in place\n",
    "inds=labels.keys()\n",
    "vals=labels.values()\n",
    "inds=[(N-j-1,N-i-1) for i,j in inds]\n",
    "\n",
    "#Create the dictionary of positions for the grid\n",
    "grid_pos=dict(zip(vals,inds)) #Format: {node ID:(i,j)}\n",
    "\n",
    "random.seed(511566511)\n",
    "nodes = list(G1.nodes)\n",
    "edges = list(G1.edges)\n",
    "\n",
    "# top_left_remove = random.sample(graph_top_left,20)\n",
    "# top_right_remove = random.sample(graph_top_right,10)\n",
    "# bottom_left_remove = random.sample(graph_bottom_left,25)\n",
    "# bottom_right_remove = random.sample(graph_bottom_right,35)\n",
    "center_remove = random.sample(graph_center,50)\n",
    "left_remove =random.sample(graph_left,50)\n",
    "right_remove = random.sample(graph_right,50)\n",
    "\n",
    "while nx.is_connected(G1) == True:\n",
    "    while len(G1) > 500:\n",
    "    \n",
    "\n",
    "    #     G12.remove_nodes_from(top_left_remove)\n",
    "    #     G12.remove_nodes_from(top_right_remove)\n",
    "    #     G12.remove_nodes_from(bottom_left_remove)\n",
    "    #     G12.remove_nodes_from(bottom_right_remove)\n",
    "        G1.remove_nodes_from(center_remove)\n",
    "        G1.remove_nodes_from(left_remove)\n",
    "        G1.remove_nodes_from(right_remove)\n",
    "        G1.remove_node(random.choice(list(G1.nodes)))\n",
    "        if len(list(nx.isolates(G1)))>0:\n",
    "            G1.remove_nodes_from(list(nx.isolates(G1)))\n",
    "#         if nx.is_connected(G26) == False:\n",
    "#             G26 = G26_C\n",
    "#         else:\n",
    "#             G26_C=G26.copy()\n",
    "#     if len(G26) <= 500:\n",
    "#             break\n",
    "\n",
    "\n",
    "#Create the dictionary of positions for the grid\n",
    "grid_pos=dict(zip(vals,inds)) #Format: {node ID:(i,j)}\n",
    "\n",
    "G1.add_edge(201,203)\n",
    "G1.add_edge(258,256)\n",
    "G1.add_edge(231,233)\n",
    "G1.add_edge(496,500)\n",
    "G1.add_edge(523,527)\n",
    "G1.add_edge(527,529)\n",
    "G1.add_edge(422,424)\n",
    "G1.add_edge(449,451)\n",
    "G1.add_edge(391,389)\n",
    "G1.add_edge(365,363)\n",
    "\n",
    "\n",
    "#Clean the dictionaries in accordance with how we changed the original graph\n",
    "for i in list(grid_pos):\n",
    "    if i not in G1.nodes:\n",
    "        grid_pos.pop(i)\n",
    "        \n",
    "coords = []\n",
    "for i in inds:\n",
    "    for key, value in grid_pos.items():\n",
    "        if i == value:\n",
    "            coords.append(i)"
   ]
  },
  {
   "cell_type": "code",
   "execution_count": 4,
   "id": "4d1f52ae",
   "metadata": {},
   "outputs": [],
   "source": [
    "N = 6\n",
    "G1 = nx.grid_2d_graph(N,N)\n",
    "\n",
    "labels=dict(((i,j),i + (N-1-j)*N) for i, j in G1.nodes())\n",
    "nx.relabel_nodes(G1,labels,False) #False=relabel the nodes in place\n",
    "inds=labels.keys()\n",
    "vals=labels.values()\n",
    "inds=[(N-j-1,N-i-1) for i,j in inds]\n",
    "\n",
    "#Create the dictionary of positions for the grid\n",
    "grid_pos=dict(zip(vals,inds)) #Format: {node ID:(i,j)}\n",
    "\n",
    "random.seed(511566511)\n",
    "nodes = list(G1.nodes)\n",
    "edges = list(G1.edges)\n",
    "\n",
    "# top_left_remove = random.sample(graph_top_left,20)\n",
    "# top_right_remove = random.sample(graph_top_right,10)\n",
    "# bottom_left_remove = random.sample(graph_bottom_left,25)\n",
    "# bottom_right_remove = random.sample(graph_bottom_right,35)\n",
    "# center_remove = random.sample(graph_center,50)\n",
    "# left_remove =random.sample(graph_left,50)\n",
    "# right_remove = random.sample(graph_right,50)\n",
    "\n",
    "# while nx.is_connected(G1) == True:\n",
    "#     while len(G1) > 20:\n",
    "    \n",
    "\n",
    "\n",
    "#         if len(list(nx.isolates(G1)))>0:\n",
    "#             G1.remove_nodes_from(list(nx.isolates(G1)))\n",
    "#         if nx.is_connected(G1) == False:\n",
    "#             G1 = G1_C\n",
    "#         else:\n",
    "#             G1_C=G1.copy()\n",
    "#         if len(G1) <= 20:\n",
    "#                 break\n",
    "\n",
    "\n",
    "#Create the dictionary of positions for the grid\n",
    "grid_pos=dict(zip(vals,inds)) #Format: {node ID:(i,j)}\n",
    "\n",
    "\n",
    "# G1.remove_node(11)\n",
    "# G1.remove_node(8)\n",
    "# G1.remove_node(18)\n",
    "\n",
    "\n",
    "#Clean the dictionaries in accordance with how we changed the original graph\n",
    "for i in list(grid_pos):\n",
    "    if i not in G1.nodes:\n",
    "        grid_pos.pop(i)\n",
    "        \n",
    "coords = []\n",
    "for i in inds:\n",
    "    for key, value in grid_pos.items():\n",
    "        if i == value:\n",
    "            coords.append(i)"
   ]
  },
  {
   "cell_type": "code",
   "execution_count": 6,
   "id": "04cea3cb",
   "metadata": {},
   "outputs": [],
   "source": [
    "def get_furthest_nodes(G):\n",
    "    sp_length = {} # dict containing shortest path distances for each pair of nodes\n",
    "    diameter = None # will contain the graphs diameter (length of longest shortest path)\n",
    "    furthest_node_list = [] # will contain list of tuple of nodes with shortest path equal to diameter\n",
    "    \n",
    "    for node in G.nodes:\n",
    "        # Get the shortest path from node to all other nodes\n",
    "        sp_length[node] = nx.single_source_dijkstra_path_length(G,node, weight = 'distance')\n",
    "        longest_path = max(sp_length[node].values()) # get length of furthest node from node\n",
    "        \n",
    "        # Update diameter when necessary (on first iteration and when we find a longer one)\n",
    "        if diameter == None:\n",
    "            diameter = longest_path # set the first diameter\n",
    "            \n",
    "        # update the list of tuples of furthest nodes if we have a best diameter\n",
    "        if longest_path >= diameter:\n",
    "            diameter = longest_path\n",
    "            \n",
    "            # a list of tuples containing\n",
    "            # the current node and the nodes furthest from it\n",
    "            node_longest_paths = [(node,other_node)\n",
    "                                      for other_node in sp_length[node].keys()\n",
    "                                      if sp_length[node][other_node] == longest_path]\n",
    "            if longest_path > diameter:\n",
    "                # This is better than the previous diameter\n",
    "                # so replace the list of tuples of diameter nodes with this nodes\n",
    "                # tuple of furthest nodes\n",
    "                furthest_node_list = node_longest_paths\n",
    "            else: # this is equal to the current diameter\n",
    "                # add this nodes tuple of furthest nodes to the current list    \n",
    "                furthest_node_list = furthest_node_list + node_longest_paths\n",
    "                \n",
    "    # return the diameter,\n",
    "        # all pairs of nodes with shortest path length equal to the diameter\n",
    "        # the dict of all-node shortest paths\n",
    "    return({'diameter':diameter,\n",
    "            'furthest_node_list':furthest_node_list,\n",
    "            'node_shortest_path_dicts':sp_length})\n",
    "\n",
    "#Define a function to find the union of two lists\n",
    "def Union(lst1,lst2):\n",
    "    final_list = list(set(lst1) | set(lst2))\n",
    "    return final_list"
   ]
  },
  {
   "cell_type": "code",
   "execution_count": 7,
   "id": "67b47d58",
   "metadata": {},
   "outputs": [],
   "source": [
    "def plus_plus(ds, k):\n",
    "    \"\"\"\n",
    "    Create cluster centroids using the k-means++ algorithm.\n",
    "    Parameters\n",
    "    ----------\n",
    "    ds : numpy array\n",
    "        The dataset to be used for centroid initialization.\n",
    "    k : int\n",
    "        The desired number of clusters for which centroids are required.\n",
    "    Returns\n",
    "    -------\n",
    "    centroids : numpy array\n",
    "        Collection of k centroids as a numpy array.\n",
    "    Inspiration from here: https://stackoverflow.com/questions/5466323/how-could-one-implement-the-k-means-algorithm\n",
    "    \"\"\"\n",
    "#     np.random.seed(random_state)\n",
    "    centroids = [random.choice(ds)]\n",
    "\n",
    "    for _ in range(1, k):\n",
    "        dist_sq = np.array([min([np.inner(c-x,c-x) for c in centroids]) for x in ds])\n",
    "        probs = dist_sq/dist_sq.sum()\n",
    "        cumulative_probs = probs.cumsum()\n",
    "        r = np.random.rand()\n",
    "        \n",
    "        for j, p in enumerate(cumulative_probs):\n",
    "            if r < p:\n",
    "                i = j\n",
    "                break\n",
    "        \n",
    "        centroids.append(ds[i])\n",
    "\n",
    "    return np.array(centroids)"
   ]
  },
  {
   "cell_type": "code",
   "execution_count": 19,
   "id": "8eee1dd5",
   "metadata": {},
   "outputs": [],
   "source": [
    "def construction_grasp(delta, rcl_parameter,llambda,graph_input):\n",
    "    #Choosing centers\n",
    "\n",
    "    locations = np.array(coords)\n",
    "\n",
    "    centroids = plus_plus(locations, 3)\n",
    "\n",
    "    centroids = centroids.tolist()\n",
    "\n",
    "    centroids_tuple = []\n",
    "    for i in centroids:\n",
    "        centroids_tuple.append(tuple((i)))\n",
    "\n",
    "    centers_depots = []\n",
    "    for i in centroids_tuple:\n",
    "        for key, value in grid_pos.items():\n",
    "            if i == value:\n",
    "                centers_depots.append(key)\n",
    "                \n",
    "    #Initialize randomized activities\n",
    "    combinations = list(itertools.combinations(centers_depots, 2))\n",
    "\n",
    "\n",
    "\n",
    "    #Calculate the average for each activity\n",
    "    adjacent = {}\n",
    "    for i in graph_input.nodes():\n",
    "            adjacent[i] = []\n",
    "    for e in graph_input.edges():\n",
    "        adjacent[e[0]].append(e)\n",
    "        adjacent[e[1]].append(e)\n",
    "\n",
    "    #Define adjacent nodes for each node\n",
    "\n",
    "    adjacent_nodes = {}\n",
    "    nodes_new = {}\n",
    "    for i in adjacent:\n",
    "        adjacent_nodes[i] = []\n",
    "        for e in range(len(adjacent[i])):\n",
    "            adjacent_nodes[i].append(adjacent[i][e][0])\n",
    "            adjacent_nodes[i].append(adjacent[i][e][1])\n",
    "    for i in adjacent_nodes:\n",
    "        nodes_new[i] = list(set(adjacent_nodes[i]))\n",
    "    adjacent_nodes = {k:[vi for vi in v if k != vi] for k,v in nodes_new.items()}\n",
    "\n",
    "\n",
    "\n",
    "    random.seed(2021)\n",
    "    demand= {}\n",
    "    for v in graph_input.nodes:\n",
    "        demand[v] = random.randint(15,369)\n",
    "\n",
    "    random.seed(2021)\n",
    "    workload= {}\n",
    "    for v in graph_input.nodes:\n",
    "        workload[v] = random.randint(15,89)\n",
    "\n",
    "    random.seed(2021)\n",
    "    n_customers= {}\n",
    "    for v in graph_input.nodes:\n",
    "        n_customers[v] = random.randint(4,19)\n",
    "\n",
    "    random.seed(2021)\n",
    "    for v in centers_depots:\n",
    "        demand[v] = 400\n",
    "        workload[v] = 100\n",
    "        n_customers[v] = 20\n",
    "        for i in adjacent_nodes[v]:\n",
    "            demand[i] = random.randint(370,400)\n",
    "            workload[i] = random.randint(90,100)\n",
    "            n_customers[i] = random.randint(15,20)\n",
    "\n",
    "    random.seed(2021)\n",
    "    distance= {}\n",
    "    for e in graph_input.edges:\n",
    "        distance[e] = random.randint(6,40)\n",
    "\n",
    "\n",
    "    nx.set_node_attributes(graph_input, values = n_customers, name = \"n_customers\")\n",
    "    nx.set_node_attributes(graph_input, values = demand, name = \"demand\")\n",
    "    nx.set_node_attributes(graph_input, values = workload, name = \"workload\")\n",
    "    nx.set_edge_attributes(graph_input, values = distance, name = \"distance\")\n",
    "    \n",
    "    \n",
    "    shortest_paths_dict = get_furthest_nodes(graph_input)['node_shortest_path_dicts']\n",
    "    graph_diameter = get_furthest_nodes(graph_input)['diameter']\n",
    "\n",
    "    total_workload = 0 \n",
    "    for v in graph_input.nodes:\n",
    "        total_workload = total_workload + graph_input.nodes[v]['workload']\n",
    "    average_workload = total_workload/len(centers_depots)\n",
    "\n",
    "    total_customers = 0 \n",
    "    for v in graph_input.nodes:\n",
    "        total_customers = total_customers + graph_input.nodes[v]['n_customers']\n",
    "    average_customers = total_customers/len(centers_depots)\n",
    "\n",
    "    total_demand = 0 \n",
    "    for v in graph_input.nodes:\n",
    "        total_demand = total_demand + graph_input.nodes[v]['demand']\n",
    "    average_demand = total_demand/len(centers_depots)\n",
    "\n",
    "\n",
    "\n",
    "    selected_nodes = {}\n",
    "    near_nodes = {}\n",
    "    for k in centers_depots:\n",
    "        selected_nodes[k] = []\n",
    "        selected_nodes[k] = nx.ego_graph(graph_input,k, radius = 30, center=False, undirected=True, distance='distance')\n",
    "        near_nodes[k] = list(selected_nodes[k].nodes())\n",
    "\n",
    "#     for v in near_nodes:\n",
    "#         print(list(any(v in val for val in near_nodes.values())))\n",
    "\n",
    "    #Find the percentage of selected nodes from the graph\n",
    "    num_nodes = 0\n",
    "    for i in near_nodes:\n",
    "        num_nodes = num_nodes+len(near_nodes[i])\n",
    "\n",
    "    percentage_nodes = 1-(num_nodes/len(nodes))\n",
    "\n",
    "    construction_time = time.time()\n",
    "\n",
    "    #Create the initial districts by assigning the nodes in the neighborhood to depots\n",
    "    district_customers = {}\n",
    "    district_workload = {}\n",
    "    district_demand = {}\n",
    "    unassigned = graph_input.nodes\n",
    "    neighborhood = {}\n",
    "    district = {}\n",
    "    rcl = {}\n",
    "    i = 0\n",
    "    while percentage_nodes*len(graph_input.nodes) <= len(unassigned):\n",
    "        for k in centers_depots:\n",
    "            district_customers[k]= 0\n",
    "            district_workload[k] = 0\n",
    "            district_demand[k] = 0\n",
    "            neighborhood[k] = []\n",
    "            neighborhood[k] = near_nodes[k]\n",
    "            unassigned = unassigned-set(near_nodes[k])-set(centers_depots)\n",
    "            district[k] = []\n",
    "            district[k] = Union(district[k], neighborhood[k])\n",
    "    #Find the total of each activity for each district\n",
    "            for w in district[k]:\n",
    "                district_customers[k] = district_customers[k] + graph_input.nodes[w]['n_customers']\n",
    "                district_workload[k] = district_workload[k] + graph_input.nodes[w]['workload']\n",
    "                district_demand[k] = district_demand[k] + graph_input.nodes[w]['demand']\n",
    "                \n",
    "\n",
    "\n",
    "    local_infeasible = 0\n",
    "\n",
    "    for i in range(len(centers_depots)):\n",
    "        local_infeasible = local_infeasible + ((1/average_customers)*max(district_customers[centers_depots[i]]-(1+delta)*average_customers,(1-delta)*average_customers-district_customers[centers_depots[i]],0))+\\\n",
    "            ((1/average_demand)*max(district_demand[centers_depots[i]]-(1+delta)*average_demand,(1-delta)*average_demand-district_demand[centers_depots[i]],0))+\\\n",
    "                ((1/average_workload)*max(district_workload[centers_depots[i]]-(1+delta)*average_workload,(1-delta)*average_workload-district_workload[centers_depots[i]],0))\n",
    "\n",
    "    #Select a larger neighborhood for the depots\n",
    "    larger_selected_nodes = {}\n",
    "    larger_selected_nodes = {}\n",
    "    for k in centers_depots:\n",
    "        larger_selected_nodes[k] = []\n",
    "        larger_selected_nodes[k] = nx.ego_graph(graph_input,k, radius = 100, center=False, undirected=True, distance='distance')\n",
    "        larger_selected_nodes[k] = list(set(larger_selected_nodes[k].nodes())-set(district[k]))\n",
    "\n",
    "    #Ensure that there is no overlap between the neighborhoods\n",
    "    new_neighborhood = {}\n",
    "    for k in centers_depots:\n",
    "        new_neighborhood[k] = []\n",
    "        for v in larger_selected_nodes[k]:\n",
    "            x = list(any(v in val for val in new_neighborhood.values()))\n",
    "            y = list(any(v in val for val in district.values()))\n",
    "            if True not in x:\n",
    "                if True not in y:             \n",
    "                    new_neighborhood[k].append(v)\n",
    "\n",
    "\n",
    "\n",
    "    #Find the infeasibility of each district\n",
    "    infeasible = {}\n",
    "\n",
    "    for k in district:\n",
    "        infeasible[k] = {}\n",
    "        for v in new_neighborhood[k]:\n",
    "            infeasible[k][v] = (1/average_workload)*max(district_workload[k]+graph_input.nodes[v]['workload']-(1+delta)*average_workload,0)+\\\n",
    "                (1/average_customers)*max(district_customers[k]+graph_input.nodes[v]['n_customers']-(1+delta)*average_customers,0)+\\\n",
    "                    (1/average_demand)*max(district_demand[k]+graph_input.nodes[v]['demand']-(1+delta)*average_demand,0)\n",
    "\n",
    "    obj_dispersion = max(shortest_paths_dict[x][y] for i in district for x in district[i] for y in district[i])\n",
    "    frac_diameter = (1/graph_diameter)\n",
    "    #Find the average dispersion of each district\n",
    "    dispersion = {}\n",
    "    for k in district:\n",
    "        dispersion[k] = {}\n",
    "        for v in new_neighborhood[k]:\n",
    "            dispersion[k][v] = frac_diameter*max(obj_dispersion, max(shortest_paths_dict[x][y] for x in Union(district[k],[v]) for y in Union(district[k],[v])))\n",
    "\n",
    "    phi = {}\n",
    "\n",
    "    for k in district:\n",
    "        phi[k] = {}\n",
    "        for v in new_neighborhood[k]:\n",
    "            phi[k][v] = llambda*dispersion[k][v]+(1-llambda)*infeasible[k][v]\n",
    "\n",
    "\n",
    "\n",
    "    phi_min = {}\n",
    "    for k in district:\n",
    "        phi_min[k] = min(phi[k].values())\n",
    "\n",
    "    phi_max = {}\n",
    "    for k in district:\n",
    "        phi_max[k] = max(phi[k].values())\n",
    "\n",
    "\n",
    "\n",
    "    open_district = {}\n",
    "    for k in district:\n",
    "        open_district[k] = True\n",
    "\n",
    "    #Create the restricted candidate list\n",
    "\n",
    "    rcl = {}\n",
    "\n",
    "    for k in district:\n",
    "        rcl[k] = []\n",
    "        if open_district[k] == True:\n",
    "            for h in new_neighborhood[k]:\n",
    "                if phi[k][h] <= phi_min[k]+rcl_parameter*(phi_max[k]-phi_min[k]):\n",
    "                    rcl[k].append(h)\n",
    "\n",
    "    x = 0\n",
    "    r = 0\n",
    "    i=0\n",
    "    viable = False\n",
    "    OR_OPEN = True\n",
    "    RCL_EMPTY = True\n",
    "    NOT_OPEN = False\n",
    "    UNASSIGNED_REPEAT = False\n",
    "    final_depot = False\n",
    "    unassigned_length = len(unassigned)\n",
    "    unassigned_previous = 0\n",
    "    while ((len(unassigned) >0) and not NOT_OPEN and not UNASSIGNED_REPEAT):\n",
    "        if unassigned_length == unassigned_previous:\n",
    "            UNASSIGNED_REPEAT = True\n",
    "#         print(unassigned_length)\n",
    "        unassigned_previous = len(unassigned)\n",
    "        for k in centers_depots:\n",
    "            # print(\"First chosen depot k is\")\n",
    "            # print(k)\n",
    "            # print(\"Length of RCL is\")\n",
    "            # print(len(rcl[k]))\n",
    "            # print(\"The district is \")\n",
    "            # print(open_district[k])\n",
    "\n",
    "            if (len(rcl[k]) == 0):\n",
    "                #print(\"RCL EMPTY: Going to next iteration.\")\n",
    "                continue\n",
    "\n",
    "            if open_district[k]:\n",
    "                for deleted in rcl[k]:\n",
    "                    for i in district[k]:\n",
    "                        if deleted in adjacent_nodes[i]:                        \n",
    "                            if deleted in rcl[k]:\n",
    "                                # print(\"Chosen RCL element is\")\n",
    "                                # print(deleted)\n",
    "                                rcl[k].remove(deleted)            \n",
    "                                district[k].append(deleted)\n",
    "                                district_customers[k] = district_customers[k] + graph_input.nodes[deleted]['n_customers']\n",
    "                                district_demand[k] = district_demand[k] + graph_input.nodes[deleted]['demand'] \n",
    "                                district_workload[k] = district_workload[k] + graph_input.nodes[deleted]['workload'] \n",
    "                                #unassigned_previous = len(unassigned)\n",
    "                                if deleted in unassigned:\n",
    "                                    unassigned.remove(deleted)\n",
    "                                    unassigned_length = len(unassigned)\n",
    "                                if (len(new_neighborhood[k]) <= 0) or (district_customers[k] >= average_customers+delta)\\\n",
    "                                        or (district_demand[k] >= average_demand+delta) or (district_workload[k] >= average_workload+delta):\n",
    "                                    open_district[k] = False\n",
    "            else:\n",
    "                #print(\"District closed: Going to next iteration.\")\n",
    "                continue\n",
    "\n",
    "\n",
    "        # if unassigned_length == unassigned_previous:\n",
    "        #     UNASSIGNED_REPEAT = True\n",
    "        # print(unassigned_length)\n",
    "        # unassigned_previous = len(unassigned)\n",
    "\n",
    "\n",
    "\n",
    "\n",
    "        if True not in open_district.values():\n",
    "            NOT_OPEN = True\n",
    "\n",
    "    #         RCL_EMPTY = False\n",
    "    #         while len(rcl[depots[r]])<=0 and r<=len(depots):\n",
    "    #             r = r+1\n",
    "    #         if r <len(depots):\n",
    "    #             RCL_EMPTY = True\n",
    "\n",
    "#     for k in centers_depots:\n",
    "#         for i in district[k]:\n",
    "#             print(list(any(i in val for val in district.values())))\n",
    "\n",
    "\n",
    "\n",
    "\n",
    "    a =  0\n",
    "    unassigned = list(unassigned)\n",
    "    for k in centers_depots:\n",
    "        for x in district[k]:\n",
    "            for v in unassigned:\n",
    "                if v in adjacent_nodes[x]:\n",
    "                    if open_district[k] == True:\n",
    "                        unique_pls = list(any(v in val for val in district.values()))\n",
    "                        if True not in unique_pls:\n",
    "                            district[k].append(v)\n",
    "                            unassigned.remove(v)\n",
    "                            district_customers[k] = district_customers[k] + graph_input.nodes[v]['n_customers']\n",
    "                            district_demand[k] = district_demand[k] + graph_input.nodes[v]['demand'] \n",
    "                            district_workload[k] = district_workload[k] + graph_input.nodes[v]['workload'] \n",
    "                            if (district_customers[k] >= average_customers+delta) or (district_demand[k] >= average_demand+delta) \\\n",
    "                                or (district_workload[k] >= average_workload+delta):\n",
    "                                open_district[k] = False\n",
    "\n",
    "                                \n",
    "\n",
    "    \n",
    "    a =  0\n",
    "    unassigned = list(unassigned)\n",
    "    for k in centers_depots:\n",
    "        for x in district[k]:\n",
    "            for v in unassigned:\n",
    "                if v in adjacent_nodes[x]:\n",
    "                    unique_pls = list(any(v in val for val in district.values()))\n",
    "                    if True not in unique_pls:\n",
    "                        district[k].append(v)\n",
    "                        unassigned.remove(v)\n",
    "                        district_customers[k] = district_customers[k] + graph_input.nodes[v]['n_customers']\n",
    "                        district_demand[k] = district_demand[k] + graph_input.nodes[v]['demand'] \n",
    "                        district_workload[k] = district_workload[k] + graph_input.nodes[v]['workload'] \n",
    "                        if (district_customers[k] >= average_customers+delta) or (district_demand[k] >= average_demand+delta) \\\n",
    "                            or (district_workload[k] >= average_workload+delta):\n",
    "                            open_district[k] = False\n",
    "\n",
    "    unassigned = list(unassigned)\n",
    "    #i = depots[0]\n",
    "    #a = (a+1) % len(depots)\n",
    "    for k in centers_depots:\n",
    "        for x in district[k]:\n",
    "            for v in unassigned:\n",
    "                if v in adjacent_nodes[x]:\n",
    "                    unique_pls = list(any(v in val for val in district.values()))\n",
    "                    if True not in unique_pls:\n",
    "                        district[k].append(v)\n",
    "                        unassigned.remove(v)\n",
    "                        district_customers[k] = district_customers[k] + graph_input.nodes[v]['n_customers']\n",
    "                        district_demand[k] = district_demand[k] + graph_input.nodes[v]['demand'] \n",
    "                        district_workload[k] = district_workload[k] + graph_input.nodes[v]['workload'] \n",
    "                        if (district_customers[k] >= average_customers+delta) or (district_demand[k] >= average_demand+delta) \\\n",
    "                            or (district_workload[k] >= average_workload+delta):\n",
    "                            open_district[k] = False\n",
    "\n",
    "    districts_keys = list(district.keys())\n",
    "    colorss = [\"lightcoral\",\"sandybrown\",\"darkorange\",\"lawngreen\",\"green\",\"aqua\",\"steelblue\",\"violet\",\"purple\",\"maroon\"]\n",
    "\n",
    "    color_map = {}\n",
    "    for node in list(graph_input.nodes):\n",
    "        color_map[node] = \"blue\"\n",
    "        for k in range(len(districts_keys)):\n",
    "            if node in district[districts_keys[k]]:\n",
    "                color_map[node] = colorss[k]\n",
    "    \n",
    "\n",
    "    color_map = list(color_map.values())\n",
    "\n",
    "#     plt.figure(3,figsize=(12,12))\n",
    "#     nx.draw(graph_input,node_color=color_map, pos=grid_pos,with_labels = True)\n",
    "#     plt.show()\n",
    "\n",
    "    local_infeasible = 0\n",
    "\n",
    "    for i in range(len(centers_depots)):\n",
    "        local_infeasible = local_infeasible + ((1/average_customers)*max(district_customers[centers_depots[i]]-(1+delta)*average_customers,(1-delta)*average_customers-district_customers[centers_depots[i]],0))+\\\n",
    "            ((1/average_demand)*max(district_demand[centers_depots[i]]-(1+delta)*average_demand,(1-delta)*average_demand-district_demand[centers_depots[i]],0))+\\\n",
    "                ((1/average_workload)*max(district_workload[centers_depots[i]]-(1+delta)*average_workload,(1-delta)*average_workload-district_workload[centers_depots[i]],0))\n",
    "\n",
    "    #print(local_infeasible)\n",
    "    construction_obj = max(shortest_paths_dict[x][y] for i in district for x in district[i] for y in district[i])\n",
    "    \n",
    "    return district, centers_depots, combinations, adjacent_nodes, average_customers, average_demand,average_workload,shortest_paths_dict, construction_obj,local_infeasible"
   ]
  },
  {
   "cell_type": "code",
   "execution_count": 24,
   "id": "52f809ee",
   "metadata": {},
   "outputs": [
    {
     "name": "stdout",
     "output_type": "stream",
     "text": [
      "12\n",
      "11\n",
      "10\n",
      "0.7823316740845155\n",
      "151\n"
     ]
    }
   ],
   "source": [
    "district, centers_depots, combinations, adjacent_nodes, average_customers, average_demand,average_workload,shortest_paths_dict, construction_obj,construction_infeasible = construction_grasp(0.05, 0.3,0.7,G1)\n",
    "for i in district:\n",
    "    print(len(district[i]))\n",
    "print(construction_infeasible)\n",
    "print(construction_obj)"
   ]
  },
  {
   "cell_type": "code",
   "execution_count": 1031,
   "id": "5b1be096",
   "metadata": {},
   "outputs": [
    {
     "data": {
      "text/plain": [
       "7.301144664118751"
      ]
     },
     "execution_count": 1031,
     "metadata": {},
     "output_type": "execute_result"
    }
   ],
   "source": [
    "construction_infeasible"
   ]
  },
  {
   "cell_type": "code",
   "execution_count": 1032,
   "id": "1a073e58",
   "metadata": {},
   "outputs": [
    {
     "data": {
      "text/plain": [
       "425"
      ]
     },
     "execution_count": 1032,
     "metadata": {},
     "output_type": "execute_result"
    }
   ],
   "source": [
    "construction_obj"
   ]
  },
  {
   "cell_type": "code",
   "execution_count": 25,
   "id": "d63fa7d7",
   "metadata": {},
   "outputs": [
    {
     "name": "stdout",
     "output_type": "stream",
     "text": [
      "[True, False, False]\n",
      "[True, False, False]\n",
      "[True, False, False]\n",
      "[True, False, False]\n",
      "[True, False, False]\n",
      "[True, False, False]\n",
      "[True, False, False]\n",
      "[True, False, False]\n",
      "[True, False, False]\n",
      "[True, False, False]\n",
      "[True, False, False]\n",
      "[True, False, False]\n",
      "[False, True, False]\n",
      "[False, True, False]\n",
      "[False, True, False]\n",
      "[False, True, False]\n",
      "[False, True, False]\n",
      "[False, True, False]\n",
      "[False, True, False]\n",
      "[False, True, False]\n",
      "[False, True, False]\n",
      "[False, True, False]\n",
      "[False, True, False]\n",
      "[False, False, True]\n",
      "[False, False, True]\n",
      "[False, False, True]\n",
      "[False, False, True]\n",
      "[False, False, True]\n",
      "[False, False, True]\n",
      "[False, False, True]\n",
      "[False, False, True]\n",
      "[False, False, True]\n",
      "[False, False, True]\n"
     ]
    }
   ],
   "source": [
    "for k in centers_depots:\n",
    "    for i in district[k]:\n",
    "        print(list(any(i in val for val in district.values())))\n"
   ]
  },
  {
   "cell_type": "code",
   "execution_count": 13,
   "id": "707f14b6",
   "metadata": {},
   "outputs": [],
   "source": [
    "#Without Updating Objective Function\n",
    "    \n",
    "#Create a function that calculates the linear combination of infeasibility and dispersion for two selected districts.\n",
    "def localsearch_grasp(district,centers_depots,combinations,adjacent_nodes,average_customers, average_demand,average_workload,shortest_paths_dict,llambda,delta,graph_input):    \n",
    "    def decision(x,y):\n",
    "\n",
    "        y_customers = {}\n",
    "        y_demand = {}\n",
    "        y_workload = {}\n",
    "\n",
    "        x_customers = {}\n",
    "        x_demand = {}\n",
    "        x_workload = {}\n",
    "\n",
    "        for k in centers_depots:\n",
    "            y_customers[k] = 0\n",
    "            y_demand[k] = 0\n",
    "            y_workload[k] = 0\n",
    "            x_customers[k] = 0\n",
    "            x_demand[k] = 0\n",
    "            x_workload[k] = 0\n",
    "\n",
    "    #Calculate the total for each  activity measure for each district allocation\n",
    "        for k in centers_depots:\n",
    "            for w in y[k]:\n",
    "                y_customers[k] = y_customers[k] + graph_input.nodes[w]['n_customers']\n",
    "                y_workload[k] = y_workload[k] + graph_input.nodes[w]['workload']\n",
    "                y_demand[k] = y_demand[k] + graph_input.nodes[w]['demand']\n",
    "            for w in x[k]:\n",
    "                x_customers[k] = x_customers[k] + graph_input.nodes[w]['n_customers']\n",
    "                x_workload[k] = x_workload[k] + graph_input.nodes[w]['workload']\n",
    "                x_demand[k] = x_demand[k] + graph_input.nodes[w]['demand']\n",
    "\n",
    "\n",
    "\n",
    "\n",
    "\n",
    "\n",
    "        weight_district_temp_f = (max(shortest_paths_dict[a][b] for i in y for a in y[i] for b in y[i]))\n",
    "        #weight_district_temp_f = llambda*(max(get_furthest_nodes(graph_input.subgraph(y[centers_depots[i]]))['diameter'] for i in range(len(centers_depots))))\n",
    "\n",
    "        weight_district_temp_g = 0\n",
    "        for i in range(len(centers_depots)):\n",
    "\n",
    "            ga1_temp = ((1/average_customers)*max(y_customers[centers_depots[i]]-(1+delta)*average_customers,(1-delta)*average_customers-y_customers[centers_depots[i]],0))\n",
    "            ga2_temp = ((1/average_demand)*max(y_demand[centers_depots[i]]-(1+delta)*average_demand,(1-delta)*average_demand-y_demand[centers_depots[i]],0))\n",
    "            ga3_temp = ((1/average_workload)*max(y_workload[centers_depots[i]]-(1+delta)*average_workload,(1-delta)*average_workload-y_workload[centers_depots[i]],0))\n",
    "\n",
    "            weight_district_temp_g = weight_district_temp_g +(ga1_temp+ga2_temp+ga3_temp)\n",
    "\n",
    "        weight_district_temp = llambda*weight_district_temp_f + (1-llambda)*weight_district_temp_g\n",
    "\n",
    "\n",
    "\n",
    "\n",
    "\n",
    "        weight_district_best_f = (max(shortest_paths_dict[a][b] for i in x for a in x[i] for b in x[i]))\n",
    "        weight_district_best_g = 0\n",
    "        for i in range(len(centers_depots)):\n",
    "            \n",
    "            ga1_best = ((1/average_customers)*max(x_customers[centers_depots[i]]-(1+delta)*average_customers,(1-delta)*average_customers-x_customers[centers_depots[i]],0))\n",
    "            ga2_best = ((1/average_demand)*max(x_demand[centers_depots[i]]-(1+delta)*average_demand,(1-delta)*average_demand-x_demand[centers_depots[i]],0))\n",
    "            ga3_best = ((1/average_workload)*max(x_workload[centers_depots[i]]-(1+delta)*average_workload,(1-delta)*average_workload-x_workload[centers_depots[i]],0))\n",
    "\n",
    "            weight_district_best_g = weight_district_best_g + (ga1_best+ga2_best+ga3_best)\n",
    "\n",
    "\n",
    "\n",
    "        weight_district_best = llambda*weight_district_best_f + (1-llambda)*weight_district_best_g\n",
    "\n",
    "    #Return True if the first district allocation is better\n",
    "\n",
    "        if(weight_district_temp<weight_district_best):\n",
    "\n",
    "            return True\n",
    "        else:\n",
    "\n",
    "            return False\n",
    "\n",
    "    district_trial2 = {}\n",
    "    best_sol = {}\n",
    "\n",
    "#     print(district_trial2)\n",
    "#     print(best_sol)\n",
    "    #Copy the current district allocation\n",
    "    for i in range(len(centers_depots)):\n",
    "        district_trial2[centers_depots[i]] = district[centers_depots[i]][:]\n",
    "\n",
    "    for i in range(len(centers_depots)):\n",
    "        best_sol[centers_depots[i]] = district[centers_depots[i]][:]\n",
    "\n",
    "    #Initialize a dictionary of moves\n",
    "    moves = {}\n",
    "\n",
    "    for i in range(len(centers_depots)):\n",
    "\n",
    "        moves[centers_depots[i]]= [v for k,v in district.items() if k != centers_depots[i]]\n",
    "\n",
    "    for i in moves:\n",
    "        moves[i] = list(itertools.chain(*moves[i]))\n",
    "\n",
    "    depo_choices = {}\n",
    "    for k in centers_depots:\n",
    "        depo_choices[k] = [item for item in combinations\n",
    "                if item[0] == k or item[1] == k]\n",
    "\n",
    "\n",
    "    choose = random.choice(range(len(centers_depots)))\n",
    "\n",
    "    k = centers_depots[choose]\n",
    "    chosen_depots = random.choice(depo_choices[k])\n",
    "    kend = None\n",
    "    nmoves = 0\n",
    "    p = len(centers_depots)\n",
    "    local_optima = False\n",
    "\n",
    "    number_of_moves = 0\n",
    "    \n",
    "    while(nmoves<1000 and local_optima==False):\n",
    "#         print(\".....\")\n",
    "#         print(local_optima)\n",
    "#         print(\".....\")\n",
    "        improvement = False\n",
    "        while((len(moves[k])>0) and (improvement == False)):\n",
    "            move_to = random.choice(moves[k])\n",
    "            moves[k].remove(move_to)\n",
    "            number_of_moves = number_of_moves + 1\n",
    "#             print(\"Length of moves is\")\n",
    "#             print(number_of_moves)\n",
    "\n",
    "#             print(k)\n",
    "#             print(len(moves[k]))\n",
    "            for i in district_trial2[k]:\n",
    "                if move_to in adjacent_nodes[i]:\n",
    "                    for f in centers_depots:\n",
    "                        if move_to in district_trial2[f]:\n",
    "                            district_trial2[f].remove(move_to)\n",
    "\n",
    "                        unique_districts = list(any(move_to in val for val in district_trial2.values()))\n",
    "                        if True not in unique_districts:\n",
    "                            if move_to in adjacent_nodes[i]:\n",
    "                                district_trial2[k].append(move_to)\n",
    "\n",
    "#             paths_list = []\n",
    "#             for nodes in district[k]:\n",
    "#                 paths_list.append(nx.has_path(graph_input.subgraph(district[k]+[k]),k,nodes))\n",
    "# #             if False in paths_list:\n",
    "# #                 for cent in range(len(centers_depots)):\n",
    "# #                     district_trial2[centers_depots[cent]] = best_sol[centers_depots[cent]][:]\n",
    "#             print(\"guess not\")\n",
    "#             if False not in paths_list:\n",
    "#                 moves[k].remove(move_to)\n",
    "#     #Use the decision() function to check whether the performed move is an improvement              \n",
    "            if(decision(best_sol,district_trial2)==True):\n",
    "#                 print(\"Yes\")\n",
    "                best_sol = {}\n",
    "                for i in range(len(centers_depots)):\n",
    "                    best_sol[centers_depots[i]] = district_trial2[centers_depots[i]][:]\n",
    "                nmoves = nmoves+1\n",
    "#                 print(nmoves)\n",
    "                #print(decision(best_sol,district_trial2))\n",
    "                improvement = True\n",
    "                choose = (choose+1) % p\n",
    "                kend = k\n",
    "                k = centers_depots[choose]\n",
    "                chosen_depots = random.choice(depo_choices[k])\n",
    "#                     for i in range(len(centers_depots)):\n",
    "#                         if move_to in moves[centers_depots[i]]:\n",
    "#                             moves[centers_depots[i]].remove(move_to)\n",
    "            else:\n",
    "#                 print(\"No\")\n",
    "                #print(decision(best_sol,district_trial2))\n",
    "                for i in range(len(centers_depots)):\n",
    "                    district_trial2[centers_depots[i]] = best_sol[centers_depots[i]][:]\n",
    "                #small chance of sad infinite loop :(\n",
    "        if improvement == False:\n",
    "            choose = (choose+1) % p\n",
    "            k = centers_depots[choose]\n",
    "            chosen_depots = random.choice(depo_choices[k])\n",
    "#         #         if len(moves[k]) == 0:\n",
    "#         #             choose = (choose+1) % p\n",
    "#         #             k = centers_depots[choose]\n",
    "#         #             chosen_depots = random.choice(depo_choices[k])\n",
    "\n",
    "        if k == kend:\n",
    "            local_optima = True\n",
    "            print(\"Local Optimum Reached\")\n",
    "#     #     for k in centers_depots:\n",
    "    #         for i in best_sol[k]:\n",
    "    #             print(list(any(i in val for val in best_sol.values())))          \n",
    "#             else:\n",
    "#                 for i in range(len(centers_depots)):\n",
    "#                     district_trial2[centers_depots[i]] = best_sol[centers_depots[i]][:]\n",
    "\n",
    "    districts_keys = list(best_sol.keys())\n",
    "    colorss = [\"lightcoral\",\"sandybrown\",\"darkorange\",\"lawngreen\",\"green\",\"aqua\",\"steelblue\",\"violet\",\"purple\",\"maroon\"]\n",
    "\n",
    "    color_map = {}\n",
    "    for node in list(graph_input.nodes):\n",
    "        color_map[node] = \"blue\"\n",
    "        for k in range(len(districts_keys)):\n",
    "            if node in best_sol[districts_keys[k]]:\n",
    "                color_map[node] = colorss[k]\n",
    "\n",
    "    color_map = list(color_map.values())\n",
    "\n",
    "#     plt.figure(3,figsize=(12,12))\n",
    "#     nx.draw(graph_input,node_color=color_map, pos=grid_pos,with_labels = True)\n",
    "#     plt.show()\n",
    "    \n",
    "    best_obj = max(shortest_paths_dict[a][b] for i in best_sol for a in best_sol[i] for b in best_sol[i])\n",
    "    \n",
    "    best_sol_customers = {}\n",
    "    best_sol_workload = {}\n",
    "    best_sol_demand = {}\n",
    "    \n",
    "    for k in centers_depots:\n",
    "        best_sol_customers[k]=0\n",
    "        best_sol_demand[k]=0\n",
    "        best_sol_workload[k]=0\n",
    "        \n",
    "    for k in centers_depots:\n",
    "        for w in best_sol[k]:\n",
    "            best_sol_customers[k] = best_sol_customers[k] + graph_input.nodes[w]['n_customers']\n",
    "            best_sol_workload[k] = best_sol_workload[k] + graph_input.nodes[w]['workload']\n",
    "            best_sol_demand[k] = best_sol_demand[k] + graph_input.nodes[w]['demand']\n",
    "    \n",
    "    local_infeasible = 0\n",
    "    \n",
    "    for i in range(len(centers_depots)):\n",
    "        local_infeasible = local_infeasible + ((1/average_customers)*max(best_sol_customers[centers_depots[i]]-(1+delta)*average_customers,(1-delta)*average_customers-best_sol_customers[centers_depots[i]],0))+\\\n",
    "            ((1/average_demand)*max(best_sol_demand[centers_depots[i]]-(1+delta)*average_demand,(1-delta)*average_demand-best_sol_demand[centers_depots[i]],0))+\\\n",
    "                ((1/average_workload)*max(best_sol_workload[centers_depots[i]]-(1+delta)*average_workload,(1-delta)*average_workload-best_sol_workload[centers_depots[i]],0))\n",
    "\n",
    "    #print(local_infeasible)\n",
    "    \n",
    "    return best_obj, local_infeasible, best_sol"
   ]
  },
  {
   "cell_type": "code",
   "execution_count": 907,
   "id": "8ba1e515",
   "metadata": {},
   "outputs": [],
   "source": [
    "#Without Updating Objective Function and Remove Adjacency Conditions\n",
    "    \n",
    "#Create a function that calculates the linear combination of infeasibility and dispersion for two selected districts.\n",
    "def localsearch_grasp(district,centers_depots,combinations,adjacent_nodes,average_customers, average_demand,average_workload,shortest_paths_dict,llambda,delta,graph_input):    \n",
    "    def decision(x,y):\n",
    "\n",
    "        y_customers = {}\n",
    "        y_demand = {}\n",
    "        y_workload = {}\n",
    "\n",
    "        x_customers = {}\n",
    "        x_demand = {}\n",
    "        x_workload = {}\n",
    "\n",
    "        for k in centers_depots:\n",
    "            y_customers[k] = 0\n",
    "            y_demand[k] = 0\n",
    "            y_workload[k] = 0\n",
    "            x_customers[k] = 0\n",
    "            x_demand[k] = 0\n",
    "            x_workload[k] = 0\n",
    "\n",
    "    #Calculate the total for each  activity measure for each district allocation\n",
    "        for k in centers_depots:\n",
    "            for w in y[k]:\n",
    "                y_customers[k] = y_customers[k] + graph_input.nodes[w]['n_customers']\n",
    "                y_workload[k] = y_workload[k] + graph_input.nodes[w]['workload']\n",
    "                y_demand[k] = y_demand[k] + graph_input.nodes[w]['demand']\n",
    "            for w in x[k]:\n",
    "                x_customers[k] = x_customers[k] + graph_input.nodes[w]['n_customers']\n",
    "                x_workload[k] = x_workload[k] + graph_input.nodes[w]['workload']\n",
    "                x_demand[k] = x_demand[k] + graph_input.nodes[w]['demand']\n",
    "\n",
    "\n",
    "\n",
    "\n",
    "\n",
    "\n",
    "        weight_district_temp_f = (max(shortest_paths_dict[a][b] for i in y for a in y[i] for b in y[i]))\n",
    "        #weight_district_temp_f = llambda*(max(get_furthest_nodes(graph_input.subgraph(y[centers_depots[i]]))['diameter'] for i in range(len(centers_depots))))\n",
    "\n",
    "        weight_district_temp_g = 0\n",
    "        for i in range(len(centers_depots)):\n",
    "\n",
    "            ga1_temp = ((1/average_customers)*max(y_customers[centers_depots[i]]-(1+delta)*average_customers,(1-delta)*average_customers-y_customers[centers_depots[i]],0))\n",
    "            ga2_temp = ((1/average_demand)*max(y_demand[centers_depots[i]]-(1+delta)*average_demand,(1-delta)*average_demand-y_demand[centers_depots[i]],0))\n",
    "            ga3_temp = ((1/average_workload)*max(y_workload[centers_depots[i]]-(1+delta)*average_workload,(1-delta)*average_workload-y_workload[centers_depots[i]],0))\n",
    "\n",
    "            weight_district_temp_g = weight_district_temp_g +(ga1_temp+ga2_temp+ga3_temp)\n",
    "\n",
    "        weight_district_temp = llambda*weight_district_temp_f + (1-llambda)*weight_district_temp_g\n",
    "\n",
    "\n",
    "\n",
    "\n",
    "\n",
    "        weight_district_best_f = (max(shortest_paths_dict[a][b] for i in x for a in x[i] for b in x[i]))\n",
    "        weight_district_best_g = 0\n",
    "        for i in range(len(centers_depots)):\n",
    "            \n",
    "            ga1_best = ((1/average_customers)*max(x_customers[centers_depots[i]]-(1+delta)*average_customers,(1-delta)*average_customers-x_customers[centers_depots[i]],0))\n",
    "            ga2_best = ((1/average_demand)*max(x_demand[centers_depots[i]]-(1+delta)*average_demand,(1-delta)*average_demand-x_demand[centers_depots[i]],0))\n",
    "            ga3_best = ((1/average_workload)*max(x_workload[centers_depots[i]]-(1+delta)*average_workload,(1-delta)*average_workload-x_workload[centers_depots[i]],0))\n",
    "\n",
    "            weight_district_best_g = weight_district_best_g + (ga1_best+ga2_best+ga3_best)\n",
    "\n",
    "\n",
    "\n",
    "        weight_district_best = llambda*weight_district_best_f + (1-llambda)*weight_district_best_g\n",
    "\n",
    "    #Return True if the first district allocation is better\n",
    "\n",
    "        if(weight_district_temp<weight_district_best):\n",
    "\n",
    "            return True\n",
    "        else:\n",
    "\n",
    "            return False\n",
    "\n",
    "    district_trial2 = {}\n",
    "    best_sol = {}\n",
    "\n",
    "#     print(district_trial2)\n",
    "#     print(best_sol)\n",
    "    #Copy the current district allocation\n",
    "    for i in range(len(centers_depots)):\n",
    "        district_trial2[centers_depots[i]] = district[centers_depots[i]][:]\n",
    "\n",
    "    for i in range(len(centers_depots)):\n",
    "        best_sol[centers_depots[i]] = district[centers_depots[i]][:]\n",
    "\n",
    "    #Initialize a dictionary of moves\n",
    "    moves = {}\n",
    "\n",
    "    for i in range(len(centers_depots)):\n",
    "\n",
    "        moves[centers_depots[i]]= [v for k,v in district.items() if k != centers_depots[i]]\n",
    "\n",
    "    for i in moves:\n",
    "        moves[i] = list(itertools.chain(*moves[i]))\n",
    "\n",
    "    depo_choices = {}\n",
    "    for k in centers_depots:\n",
    "        depo_choices[k] = [item for item in combinations\n",
    "                if item[0] == k or item[1] == k]\n",
    "\n",
    "\n",
    "    choose = random.choice(range(len(centers_depots)))\n",
    "\n",
    "    k = centers_depots[choose]\n",
    "    chosen_depots = random.choice(depo_choices[k])\n",
    "    kend = None\n",
    "    nmoves = 0\n",
    "    p = len(centers_depots)\n",
    "    local_optima = False\n",
    "\n",
    "    number_of_moves = 0\n",
    "    \n",
    "    while(nmoves<1000 and local_optima==False):\n",
    "#         print(\".....\")\n",
    "#         print(local_optima)\n",
    "#         print(\".....\")\n",
    "        improvement = False\n",
    "        while((len(moves[k])>0) and (improvement == False)):\n",
    "            move_to = random.choice(moves[k])\n",
    "            moves[k].remove(move_to)\n",
    "            number_of_moves = number_of_moves + 1\n",
    "#             print(\"Length of moves is\")\n",
    "#             print(number_of_moves)\n",
    "\n",
    "#             print(k)\n",
    "#             print(len(moves[k]))\n",
    "            for i in district_trial2[k]:\n",
    "#                 if move_to in adjacent_nodes[i]:\n",
    "                for f in centers_depots:\n",
    "                    if move_to in district_trial2[f]:\n",
    "                        district_trial2[f].remove(move_to)\n",
    "\n",
    "                unique_districts = list(any(move_to in val for val in district_trial2.values()))\n",
    "                if True not in unique_districts:\n",
    "#                         if move_to in adjacent_nodes[i]:\n",
    "                    district_trial2[k].append(move_to)\n",
    "\n",
    "#             paths_list = []\n",
    "#             for nodes in district[k]:\n",
    "#                 paths_list.append(nx.has_path(graph_input.subgraph(district[k]+[k]),k,nodes))\n",
    "# #             if False in paths_list:\n",
    "# #                 for cent in range(len(centers_depots)):\n",
    "# #                     district_trial2[centers_depots[cent]] = best_sol[centers_depots[cent]][:]\n",
    "#             print(\"guess not\")\n",
    "#             if False not in paths_list:\n",
    "#                 moves[k].remove(move_to)\n",
    "#     #Use the decision() function to check whether the performed move is an improvement              \n",
    "            if(decision(best_sol,district_trial2)==True):\n",
    "#                 print(\"Yes\")\n",
    "                best_sol = {}\n",
    "                for i in range(len(centers_depots)):\n",
    "                    best_sol[centers_depots[i]] = district_trial2[centers_depots[i]][:]\n",
    "                nmoves = nmoves+1\n",
    "#                 print(nmoves)\n",
    "                #print(decision(best_sol,district_trial2))\n",
    "                improvement = True\n",
    "                choose = (choose+1) % p\n",
    "                kend = k\n",
    "                k = centers_depots[choose]\n",
    "                chosen_depots = random.choice(depo_choices[k])\n",
    "#                     for i in range(len(centers_depots)):\n",
    "#                         if move_to in moves[centers_depots[i]]:\n",
    "#                             moves[centers_depots[i]].remove(move_to)\n",
    "            else:\n",
    "#                 print(\"No\")\n",
    "                #print(decision(best_sol,district_trial2))\n",
    "                for i in range(len(centers_depots)):\n",
    "                    district_trial2[centers_depots[i]] = best_sol[centers_depots[i]][:]\n",
    "                #small chance of sad infinite loop :(\n",
    "        if improvement == False:\n",
    "            choose = (choose+1) % p\n",
    "            k = centers_depots[choose]\n",
    "            chosen_depots = random.choice(depo_choices[k])\n",
    "#         #         if len(moves[k]) == 0:\n",
    "#         #             choose = (choose+1) % p\n",
    "#         #             k = centers_depots[choose]\n",
    "#         #             chosen_depots = random.choice(depo_choices[k])\n",
    "\n",
    "        if k == kend:\n",
    "            local_optima = True\n",
    "            print(\"Local Optimum Reached\")\n",
    "#     #     for k in centers_depots:\n",
    "    #         for i in best_sol[k]:\n",
    "    #             print(list(any(i in val for val in best_sol.values())))          \n",
    "#             else:\n",
    "#                 for i in range(len(centers_depots)):\n",
    "#                     district_trial2[centers_depots[i]] = best_sol[centers_depots[i]][:]\n",
    "\n",
    "    districts_keys = list(best_sol.keys())\n",
    "    colorss = [\"lightcoral\",\"sandybrown\",\"darkorange\",\"lawngreen\",\"green\",\"aqua\",\"steelblue\",\"violet\",\"purple\",\"maroon\"]\n",
    "\n",
    "    color_map = {}\n",
    "    for node in list(graph_input.nodes):\n",
    "        color_map[node] = \"blue\"\n",
    "        for k in range(len(districts_keys)):\n",
    "            if node in best_sol[districts_keys[k]]:\n",
    "                color_map[node] = colorss[k]\n",
    "\n",
    "    color_map = list(color_map.values())\n",
    "\n",
    "#     plt.figure(3,figsize=(12,12))\n",
    "#     nx.draw(graph_input,node_color=color_map, pos=grid_pos,with_labels = True)\n",
    "#     plt.show()\n",
    "    \n",
    "    best_obj = max(shortest_paths_dict[a][b] for i in best_sol for a in best_sol[i] for b in best_sol[i])\n",
    "    \n",
    "    best_sol_customers = {}\n",
    "    best_sol_workload = {}\n",
    "    best_sol_demand = {}\n",
    "    \n",
    "    for k in centers_depots:\n",
    "        best_sol_customers[k]=0\n",
    "        best_sol_demand[k]=0\n",
    "        best_sol_workload[k]=0\n",
    "        \n",
    "    for k in centers_depots:\n",
    "        for w in best_sol[k]:\n",
    "            best_sol_customers[k] = best_sol_customers[k] + graph_input.nodes[w]['n_customers']\n",
    "            best_sol_workload[k] = best_sol_workload[k] + graph_input.nodes[w]['workload']\n",
    "            best_sol_demand[k] = best_sol_demand[k] + graph_input.nodes[w]['demand']\n",
    "    \n",
    "    local_infeasible = 0\n",
    "    \n",
    "    for i in range(len(centers_depots)):\n",
    "        local_infeasible = local_infeasible + ((1/average_customers)*max(best_sol_customers[centers_depots[i]]-(1+delta)*average_customers,(1-delta)*average_customers-best_sol_customers[centers_depots[i]],0))+\\\n",
    "            ((1/average_demand)*max(best_sol_demand[centers_depots[i]]-(1+delta)*average_demand,(1-delta)*average_demand-best_sol_demand[centers_depots[i]],0))+\\\n",
    "                ((1/average_workload)*max(best_sol_workload[centers_depots[i]]-(1+delta)*average_workload,(1-delta)*average_workload-best_sol_workload[centers_depots[i]],0))\n",
    "\n",
    "    #print(local_infeasible)\n",
    "    \n",
    "    return best_obj, local_infeasible, best_sol"
   ]
  },
  {
   "cell_type": "code",
   "execution_count": 976,
   "id": "102967b4",
   "metadata": {},
   "outputs": [],
   "source": [
    "#With Updating Objective Function\n",
    "\n",
    "#Create a function that calculates the linear combination of infeasibility and dispersion for two selected districts.\n",
    "def localsearch_grasp(district,construction_obj,centers_depots,combinations,adjacent_nodes,average_customers, average_demand,average_workload,shortest_paths_dict,llambda,delta,graph_input):    \n",
    "    def decision(x,y,district_added,district_removed,currentmax,move_to):\n",
    "\n",
    "        y_customers = {}\n",
    "        y_demand = {}\n",
    "        y_workload = {}\n",
    "\n",
    "        x_customers = {}\n",
    "        x_demand = {}\n",
    "        x_workload = {}\n",
    "\n",
    "        for k in centers_depots:\n",
    "            y_customers[k] = 0\n",
    "            y_demand[k] = 0\n",
    "            y_workload[k] = 0\n",
    "            x_customers[k] = 0\n",
    "            x_demand[k] = 0\n",
    "            x_workload[k] = 0\n",
    "\n",
    "    #Calculate the total for each  activity measure for each district allocation\n",
    "        for k in centers_depots:\n",
    "            for w in y[k]:\n",
    "                y_customers[k] = y_customers[k] + graph_input.nodes[w]['n_customers']\n",
    "                y_workload[k] = y_workload[k] + graph_input.nodes[w]['workload']\n",
    "                y_demand[k] = y_demand[k] + graph_input.nodes[w]['demand']\n",
    "            for w in x[k]:\n",
    "                x_customers[k] = x_customers[k] + graph_input.nodes[w]['n_customers']\n",
    "                x_workload[k] = x_workload[k] + graph_input.nodes[w]['workload']\n",
    "                x_demand[k] = x_demand[k] + graph_input.nodes[w]['demand']\n",
    "\n",
    "\n",
    "\n",
    "\n",
    "\n",
    "        \n",
    "#         weight_district_temp_f_removed = (max(shortest_paths_dict[a][b] for a in y[district_removed] for b in y[district_removed]))\n",
    "#         weight_district_temp_f_added = (max(shortest_paths_dict[a][move_to] for a in y[district_added]))\n",
    "        weight_district_temp_f = (max(shortest_paths_dict[a][b] for i in y for a in y[i] for b in y[i]))\n",
    "        #weight_district_temp_f = llambda*(max(get_furthest_nodes(graph_input.subgraph(y[centers_depots[i]]))['diameter'] for i in range(len(centers_depots))))\n",
    "\n",
    "        weight_district_temp_g = 0\n",
    "        for i in range(len(centers_depots)):\n",
    "\n",
    "            ga1_temp = ((1/average_customers)*max(y_customers[centers_depots[i]]-(1+delta)*average_customers,(1-delta)*average_customers-y_customers[centers_depots[i]],0))\n",
    "            ga2_temp = ((1/average_demand)*max(y_demand[centers_depots[i]]-(1+delta)*average_demand,(1-delta)*average_demand-y_demand[centers_depots[i]],0))\n",
    "            ga3_temp = ((1/average_workload)*max(y_workload[centers_depots[i]]-(1+delta)*average_workload,(1-delta)*average_workload-y_workload[centers_depots[i]],0))\n",
    "\n",
    "            weight_district_temp_g = weight_district_temp_g +(ga1_temp+ga2_temp+ga3_temp)\n",
    "\n",
    "        weight_district_temp = llambda*weight_district_temp_f + (1-llambda)*weight_district_temp_g\n",
    "\n",
    "\n",
    "\n",
    "\n",
    "\n",
    "        weight_district_best_f = currentmax\n",
    "        weight_district_best_g = 0\n",
    "        for i in range(len(centers_depots)):\n",
    "            \n",
    "            ga1_best = ((1/average_customers)*max(x_customers[centers_depots[i]]-(1+delta)*average_customers,(1-delta)*average_customers-x_customers[centers_depots[i]],0))\n",
    "            ga2_best = ((1/average_demand)*max(x_demand[centers_depots[i]]-(1+delta)*average_demand,(1-delta)*average_demand-x_demand[centers_depots[i]],0))\n",
    "            ga3_best = ((1/average_workload)*max(x_workload[centers_depots[i]]-(1+delta)*average_workload,(1-delta)*average_workload-x_workload[centers_depots[i]],0))\n",
    "\n",
    "            weight_district_best_g = weight_district_best_g + (ga1_best+ga2_best+ga3_best)\n",
    "\n",
    "\n",
    "\n",
    "        weight_district_best = llambda*weight_district_best_f + (1-llambda)*weight_district_best_g\n",
    "\n",
    "    #Return True if the first district allocation is better\n",
    "\n",
    "        if(weight_district_temp<weight_district_best):\n",
    "\n",
    "            return True, weight_district_temp_f\n",
    "        else:\n",
    "\n",
    "            return False, weight_district_best_f\n",
    "\n",
    "    district_trial2 = {}\n",
    "    best_sol = {}\n",
    "\n",
    "#     print(district_trial2)\n",
    "#     print(best_sol)\n",
    "    #Copy the current district allocation\n",
    "    for i in range(len(centers_depots)):\n",
    "        district_trial2[centers_depots[i]] = district[centers_depots[i]][:]\n",
    "\n",
    "    for i in range(len(centers_depots)):\n",
    "        best_sol[centers_depots[i]] = district[centers_depots[i]][:]\n",
    "\n",
    "    #Initialize a dictionary of moves\n",
    "    moves = {}\n",
    "\n",
    "    for i in range(len(centers_depots)):\n",
    "\n",
    "        moves[centers_depots[i]]= [v for k,v in district.items() if k != centers_depots[i]]\n",
    "\n",
    "    for i in moves:\n",
    "        moves[i] = list(itertools.chain(*moves[i]))\n",
    "\n",
    "    depo_choices = {}\n",
    "    for k in centers_depots:\n",
    "        depo_choices[k] = [item for item in combinations\n",
    "                if item[0] == k or item[1] == k]\n",
    "\n",
    "\n",
    "    choose = random.choice(range(len(centers_depots)))\n",
    "\n",
    "    k = centers_depots[choose]\n",
    "    chosen_depots = random.choice(depo_choices[k])\n",
    "    kend = None\n",
    "    nmoves = 0\n",
    "    p = len(centers_depots)\n",
    "    local_optima = False\n",
    "\n",
    "    number_of_moves = 0\n",
    "    currentmax = construction_obj\n",
    "    while(nmoves<1000 and local_optima==False):\n",
    "#         print(\".....\")\n",
    "#         print(local_optima)\n",
    "#         print(\".....\")\n",
    "        improvement = False\n",
    "        while((len(moves[k])>0) and (improvement == False)):\n",
    "            move_to = random.choice(moves[k])\n",
    "            moves[k].remove(move_to)\n",
    "            number_of_moves = number_of_moves + 1\n",
    "#             print(\"Length of moves is\")\n",
    "#             print(number_of_moves)\n",
    "#             print(\"The current move is\", move_to)\n",
    "#             print(k)\n",
    "#             print(len(moves[k]))\n",
    "            for i in district_trial2[k]:\n",
    "#                 if move_to in adjacent_nodes[i]:\n",
    "                for f in centers_depots:\n",
    "                    if move_to in district_trial2[f]:\n",
    "                        district_trial2[f].remove(move_to)\n",
    "                        district_removed = f\n",
    "#                         print(\"The district removed is\" ,f)\n",
    "\n",
    "                unique_districts = list(any(move_to in val for val in district_trial2.values()))\n",
    "                if True not in unique_districts:\n",
    "#                     if move_to in adjacent_nodes[i]:\n",
    "                    district_trial2[k].append(move_to)\n",
    "                    district_added = k\n",
    "#                     print(\"The district added is\", k)\n",
    "\n",
    "#             paths_list = []\n",
    "#             for nodes in district[k]:\n",
    "#                 paths_list.append(nx.has_path(graph_input.subgraph(district[k]+[k]),k,nodes))\n",
    "# #             if False in paths_list:\n",
    "# #                 for cent in range(len(centers_depots)):\n",
    "# #                     district_trial2[centers_depots[cent]] = best_sol[centers_depots[cent]][:]\n",
    "#             print(\"guess not\")\n",
    "#             if False not in paths_list:\n",
    "#                 moves[k].remove(move_to)\n",
    "#     #Use the decision() function to check whether the performed move is an improvement  \n",
    "            decision_moment = decision(best_sol,district_trial2,district_added,district_removed,currentmax,move_to)\n",
    "            if(decision_moment[0]==True):\n",
    "#                 print(\"Yes\")\n",
    "                best_sol = {}\n",
    "                for i in range(len(centers_depots)):\n",
    "                    best_sol[centers_depots[i]] = district_trial2[centers_depots[i]][:]\n",
    "                nmoves = nmoves+1\n",
    "#                 print(nmoves)\n",
    "                #print(decision(best_sol,district_trial2))\n",
    "                improvement = True\n",
    "                currentmax = decision_moment[1]\n",
    "                choose = (choose+1) % p\n",
    "                kend = k\n",
    "                k = centers_depots[choose]\n",
    "                chosen_depots = random.choice(depo_choices[k])\n",
    "#                     for i in range(len(centers_depots)):\n",
    "#                         if move_to in moves[centers_depots[i]]:\n",
    "#                             moves[centers_depots[i]].remove(move_to)\n",
    "            else:\n",
    "#                 print(\"No\")\n",
    "                #print(decision(best_sol,district_trial2))\n",
    "                for i in range(len(centers_depots)):\n",
    "                    district_trial2[centers_depots[i]] = best_sol[centers_depots[i]][:]\n",
    "                #small chance of sad infinite loop :(\n",
    "        if improvement == False:\n",
    "            choose = (choose+1) % p\n",
    "            k = centers_depots[choose]\n",
    "            chosen_depots = random.choice(depo_choices[k])\n",
    "#         #         if len(moves[k]) == 0:\n",
    "#         #             choose = (choose+1) % p\n",
    "#         #             k = centers_depots[choose]\n",
    "#         #             chosen_depots = random.choice(depo_choices[k])\n",
    "\n",
    "        if k == kend:\n",
    "            local_optima = True\n",
    "            print(\"Local Optimum Reached\")\n",
    "#     #     for k in centers_depots:\n",
    "    #         for i in best_sol[k]:\n",
    "    #             print(list(any(i in val for val in best_sol.values())))          \n",
    "#             else:\n",
    "#                 for i in range(len(centers_depots)):\n",
    "#                     district_trial2[centers_depots[i]] = best_sol[centers_depots[i]][:]\n",
    "\n",
    "    districts_keys = list(best_sol.keys())\n",
    "    colorss = [\"lightcoral\",\"sandybrown\",\"darkorange\",\"lawngreen\",\"green\",\"aqua\",\"steelblue\",\"violet\",\"purple\",\"maroon\"]\n",
    "\n",
    "    color_map = {}\n",
    "    for node in list(graph_input.nodes):\n",
    "        color_map[node] = \"blue\"\n",
    "        for k in range(len(districts_keys)):\n",
    "            if node in best_sol[districts_keys[k]]:\n",
    "                color_map[node] = colorss[k]\n",
    "\n",
    "    color_map = list(color_map.values())\n",
    "\n",
    "#     plt.figure(3,figsize=(12,12))\n",
    "#     nx.draw(graph_input,node_color=color_map, pos=grid_pos,with_labels = True)\n",
    "#     plt.show()\n",
    "    \n",
    "    best_obj = max(shortest_paths_dict[a][b] for i in best_sol for a in best_sol[i] for b in best_sol[i])\n",
    "    \n",
    "    best_sol_customers = {}\n",
    "    best_sol_workload = {}\n",
    "    best_sol_demand = {}\n",
    "    \n",
    "    for k in centers_depots:\n",
    "        best_sol_customers[k]=0\n",
    "        best_sol_demand[k]=0\n",
    "        best_sol_workload[k]=0\n",
    "        \n",
    "    for k in centers_depots:\n",
    "        for w in best_sol[k]:\n",
    "            best_sol_customers[k] = best_sol_customers[k] + graph_input.nodes[w]['n_customers']\n",
    "            best_sol_workload[k] = best_sol_workload[k] + graph_input.nodes[w]['workload']\n",
    "            best_sol_demand[k] = best_sol_demand[k] + graph_input.nodes[w]['demand']\n",
    "    \n",
    "    local_infeasible = 0\n",
    "    \n",
    "    for i in range(len(centers_depots)):\n",
    "        local_infeasible = local_infeasible + ((1/average_customers)*max(best_sol_customers[centers_depots[i]]-(1+delta)*average_customers,(1-delta)*average_customers-best_sol_customers[centers_depots[i]],0))+\\\n",
    "            ((1/average_demand)*max(best_sol_demand[centers_depots[i]]-(1+delta)*average_demand,(1-delta)*average_demand-best_sol_demand[centers_depots[i]],0))+\\\n",
    "                ((1/average_workload)*max(best_sol_workload[centers_depots[i]]-(1+delta)*average_workload,(1-delta)*average_workload-best_sol_workload[centers_depots[i]],0))\n",
    "\n",
    "    #print(local_infeasible)\n",
    "    \n",
    "    return best_obj, local_infeasible, best_sol"
   ]
  },
  {
   "cell_type": "code",
   "execution_count": 977,
   "id": "6edfd2e8",
   "metadata": {},
   "outputs": [],
   "source": [
    "def shaking(district,centers_depots,combinations,adjacent_nodes,average_customers, average_demand,average_workload,shortest_paths_dict,llambda,delta,graph_input,shaking_steps):    \n",
    "    \n",
    "    district_trial2 = {}\n",
    "    for i in range(len(centers_depots)):\n",
    "        district_trial2[centers_depots[i]] = district[centers_depots[i]][:]\n",
    "\n",
    "   \n",
    "    for depot in centers_depots:\n",
    "        for step in range(shaking_steps):\n",
    "            node_to_move = random.choice(district_trial2[depot])\n",
    "            district_to_receive = random.choice(list(set(centers_depots)-set([depot])))\n",
    "            district_trial2[district_to_receive].append(node_to_move)\n",
    "            district_trial2[depot].remove(node_to_move)\n",
    "    \n",
    "    best_sol = cp.deepcopy(district_trial2)\n",
    "\n",
    "    districts_keys = list(best_sol.keys())\n",
    "    colorss = [\"lightcoral\",\"sandybrown\",\"darkorange\",\"lawngreen\",\"green\",\"aqua\",\"steelblue\",\"violet\",\"purple\",\"maroon\"]\n",
    "\n",
    "    color_map = {}\n",
    "    for node in list(graph_input.nodes):\n",
    "        color_map[node] = \"blue\"\n",
    "        for k in range(len(districts_keys)):\n",
    "            if node in best_sol[districts_keys[k]]:\n",
    "                color_map[node] = colorss[k]\n",
    "\n",
    "    color_map = list(color_map.values())\n",
    "\n",
    "    plt.figure(3,figsize=(12,12))\n",
    "    nx.draw(graph_input,node_color=color_map, pos=grid_pos,with_labels = True)\n",
    "    plt.show()\n",
    "    \n",
    "    best_obj = max(shortest_paths_dict[a][b] for i in best_sol for a in best_sol[i] for b in best_sol[i])\n",
    "    \n",
    "    best_sol_customers = {}\n",
    "    best_sol_workload = {}\n",
    "    best_sol_demand = {}\n",
    "    \n",
    "    for k in centers_depots:\n",
    "        best_sol_customers[k]=0\n",
    "        best_sol_demand[k]=0\n",
    "        best_sol_workload[k]=0\n",
    "        \n",
    "    for k in centers_depots:\n",
    "        for w in best_sol[k]:\n",
    "            best_sol_customers[k] = best_sol_customers[k] + graph_input.nodes[w]['n_customers']\n",
    "            best_sol_workload[k] = best_sol_workload[k] + graph_input.nodes[w]['workload']\n",
    "            best_sol_demand[k] = best_sol_demand[k] + graph_input.nodes[w]['demand']\n",
    "    \n",
    "    local_infeasible = 0\n",
    "    \n",
    "    for i in range(len(centers_depots)):\n",
    "        local_infeasible = local_infeasible + ((1/average_customers)*max(best_sol_customers[centers_depots[i]]-(1+delta)*average_customers,(1-delta)*average_customers-best_sol_customers[centers_depots[i]],0))+\\\n",
    "            ((1/average_demand)*max(best_sol_demand[centers_depots[i]]-(1+delta)*average_demand,(1-delta)*average_demand-best_sol_demand[centers_depots[i]],0))+\\\n",
    "                ((1/average_workload)*max(best_sol_workload[centers_depots[i]]-(1+delta)*average_workload,(1-delta)*average_workload-best_sol_workload[centers_depots[i]],0))\n",
    "\n",
    "    #print(local_infeasible)\n",
    "    \n",
    "    return best_obj, local_infeasible, best_sol"
   ]
  },
  {
   "cell_type": "code",
   "execution_count": 895,
   "id": "3d08aa53",
   "metadata": {},
   "outputs": [],
   "source": [
    "district, centers_depots, combinations, adjacent_nodes, average_customers, average_demand,average_workload,shortest_paths_dict, construction_obj,construction_infeasible = construction_grasp(0.05, 0.3,0.7,G1)"
   ]
  },
  {
   "cell_type": "code",
   "execution_count": 906,
   "id": "23bf81d8",
   "metadata": {},
   "outputs": [
    {
     "name": "stdout",
     "output_type": "stream",
     "text": [
      "Local Optimum Reached\n",
      "Local Optimum Reached\n",
      "Local Optimum Reached\n",
      "Local Optimum Reached\n",
      "Local Optimum Reached\n",
      "Local Optimum Reached\n",
      "Local Optimum Reached\n",
      "Local Optimum Reached\n",
      "31.1 s ± 252 ms per loop (mean ± std. dev. of 7 runs, 1 loop each)\n"
     ]
    }
   ],
   "source": [
    "%timeit local_obj, local_infeasible, local_sol = localsearch_grasp(district,construction_obj,centers_depots,combinations,adjacent_nodes,average_customers, average_demand,average_workload,shortest_paths_dict,0.3,0.05,G1)"
   ]
  },
  {
   "cell_type": "code",
   "execution_count": 34,
   "id": "b42dcc32",
   "metadata": {},
   "outputs": [
    {
     "name": "stdout",
     "output_type": "stream",
     "text": [
      "Local Optimum Reached\n"
     ]
    }
   ],
   "source": [
    "local_obj, local_infeasible, local_sol = localsearch_grasp(district,centers_depots,combinations,adjacent_nodes,average_customers, average_demand,average_workload,shortest_paths_dict,0.3,0.05,G1)"
   ]
  },
  {
   "cell_type": "code",
   "execution_count": 28,
   "id": "7f52b10a",
   "metadata": {},
   "outputs": [
    {
     "name": "stdout",
     "output_type": "stream",
     "text": [
      "151\n",
      "0.7823316740845155\n"
     ]
    }
   ],
   "source": [
    "print(construction_obj)\n",
    "print(construction_infeasible)"
   ]
  },
  {
   "cell_type": "code",
   "execution_count": 673,
   "id": "5e09f186",
   "metadata": {},
   "outputs": [
    {
     "data": {
      "text/plain": [
       "506.19270239134556"
      ]
     },
     "execution_count": 673,
     "metadata": {},
     "output_type": "execute_result"
    }
   ],
   "source": [
    "0.7*construction_obj+0.3*construction_infeasible"
   ]
  },
  {
   "cell_type": "code",
   "execution_count": null,
   "id": "72fa7c15",
   "metadata": {},
   "outputs": [],
   "source": [
    "424.9158018113799"
   ]
  },
  {
   "cell_type": "code",
   "execution_count": 624,
   "id": "339237f8",
   "metadata": {},
   "outputs": [
    {
     "name": "stdout",
     "output_type": "stream",
     "text": [
      "785\n",
      "13.02021093864606\n"
     ]
    }
   ],
   "source": [
    "print(shaking_obj)\n",
    "print(shaking_infeasible)"
   ]
  },
  {
   "cell_type": "code",
   "execution_count": 35,
   "id": "2c513694",
   "metadata": {},
   "outputs": [
    {
     "name": "stdout",
     "output_type": "stream",
     "text": [
      "127\n",
      "0.6722633390051473\n"
     ]
    }
   ],
   "source": [
    "#No adjacency with updating\n",
    "print(local_obj)\n",
    "print(local_infeasible)"
   ]
  },
  {
   "cell_type": "code",
   "execution_count": 901,
   "id": "607d8634",
   "metadata": {},
   "outputs": [
    {
     "name": "stdout",
     "output_type": "stream",
     "text": [
      "393\n",
      "1.7371599781414417\n"
     ]
    }
   ],
   "source": [
    "#No adjacency without updating\n",
    "print(local_obj)\n",
    "print(local_infeasible)"
   ]
  },
  {
   "cell_type": "code",
   "execution_count": 777,
   "id": "61eaea82",
   "metadata": {},
   "outputs": [
    {
     "name": "stdout",
     "output_type": "stream",
     "text": [
      "Local Optimum Reached\n",
      "Local Optimum Reached\n",
      "Local Optimum Reached\n",
      "Local Optimum Reached\n",
      "Local Optimum Reached\n"
     ]
    }
   ],
   "source": [
    "local_obj, local_infeasible, local_sol = localsearch_grasp(local_sol,centers_depots,combinations,adjacent_nodes,average_customers, average_demand,average_workload,shortest_paths_dict,0.3,0.05,G1)\n",
    "local_obj, local_infeasible, local_sol = localsearch_grasp(local_sol,centers_depots,combinations,adjacent_nodes,average_customers, average_demand,average_workload,shortest_paths_dict,0.3,0.05,G1)\n",
    "local_obj, local_infeasible, local_sol = localsearch_grasp(local_sol,centers_depots,combinations,adjacent_nodes,average_customers, average_demand,average_workload,shortest_paths_dict,0.3,0.05,G1)\n",
    "local_obj, local_infeasible, local_sol = localsearch_grasp(local_sol,centers_depots,combinations,adjacent_nodes,average_customers, average_demand,average_workload,shortest_paths_dict,0.3,0.05,G1)\n",
    "local_obj, local_infeasible, local_sol = localsearch_grasp(local_sol,centers_depots,combinations,adjacent_nodes,average_customers, average_demand,average_workload,shortest_paths_dict,0.3,0.05,G1)"
   ]
  },
  {
   "cell_type": "code",
   "execution_count": 796,
   "id": "552ed54e",
   "metadata": {},
   "outputs": [],
   "source": [
    "brbrhehe = {1: [284.06636315360134, 284.06636315360134],\n",
    " 2: [462.0108290786542, 462.0108290786542],\n",
    " 4: [350.7662135282603, 350.7662135282603],\n",
    " 5: [261.73202685290124, 261.73202685290124],\n",
    " 6: [363.4360323415545, 359.7039604197904],\n",
    " 7: [357.3387883015249, 357.3387883015249],\n",
    " 8: [337.80497768452545, 311.83347039234275],\n",
    " 9: [295.93893698124685, 295.93893698124685],\n",
    " 10: [443.3177231917283, 415.8940340487734],\n",
    " 11: [332.79598324911325, 332.79598324911325],\n",
    " 12: [393.49271216653307, 371.0528041858879],\n",
    " 13: [446.0146422079629, 388.7103834231823],\n",
    " 14: [499.27297475686413, 499.27297475686413],\n",
    " 15: [357.2201684913621, 357.2201684913621],\n",
    " 16: [314.48427157266485, 314.48427157266485],\n",
    " 17: [396.55616942462143, 316.3054667046266]}"
   ]
  },
  {
   "cell_type": "code",
   "execution_count": null,
   "id": "4da419b3",
   "metadata": {},
   "outputs": [],
   "source": [
    "brbrhehe2 = {}"
   ]
  },
  {
   "cell_type": "code",
   "execution_count": 799,
   "id": "74e2924d",
   "metadata": {},
   "outputs": [
    {
     "data": {
      "text/html": [
       "<div>\n",
       "<style scoped>\n",
       "    .dataframe tbody tr th:only-of-type {\n",
       "        vertical-align: middle;\n",
       "    }\n",
       "\n",
       "    .dataframe tbody tr th {\n",
       "        vertical-align: top;\n",
       "    }\n",
       "\n",
       "    .dataframe thead th {\n",
       "        text-align: right;\n",
       "    }\n",
       "</style>\n",
       "<table border=\"1\" class=\"dataframe\">\n",
       "  <thead>\n",
       "    <tr style=\"text-align: right;\">\n",
       "      <th></th>\n",
       "      <th>0</th>\n",
       "      <th>1</th>\n",
       "    </tr>\n",
       "  </thead>\n",
       "  <tbody>\n",
       "    <tr>\n",
       "      <th>1</th>\n",
       "      <td>284.066363</td>\n",
       "      <td>284.066363</td>\n",
       "    </tr>\n",
       "    <tr>\n",
       "      <th>2</th>\n",
       "      <td>462.010829</td>\n",
       "      <td>462.010829</td>\n",
       "    </tr>\n",
       "    <tr>\n",
       "      <th>4</th>\n",
       "      <td>350.766214</td>\n",
       "      <td>350.766214</td>\n",
       "    </tr>\n",
       "    <tr>\n",
       "      <th>5</th>\n",
       "      <td>261.732027</td>\n",
       "      <td>261.732027</td>\n",
       "    </tr>\n",
       "    <tr>\n",
       "      <th>6</th>\n",
       "      <td>363.436032</td>\n",
       "      <td>359.703960</td>\n",
       "    </tr>\n",
       "    <tr>\n",
       "      <th>7</th>\n",
       "      <td>357.338788</td>\n",
       "      <td>357.338788</td>\n",
       "    </tr>\n",
       "    <tr>\n",
       "      <th>8</th>\n",
       "      <td>337.804978</td>\n",
       "      <td>311.833470</td>\n",
       "    </tr>\n",
       "    <tr>\n",
       "      <th>9</th>\n",
       "      <td>295.938937</td>\n",
       "      <td>295.938937</td>\n",
       "    </tr>\n",
       "    <tr>\n",
       "      <th>10</th>\n",
       "      <td>443.317723</td>\n",
       "      <td>415.894034</td>\n",
       "    </tr>\n",
       "    <tr>\n",
       "      <th>11</th>\n",
       "      <td>332.795983</td>\n",
       "      <td>332.795983</td>\n",
       "    </tr>\n",
       "    <tr>\n",
       "      <th>12</th>\n",
       "      <td>393.492712</td>\n",
       "      <td>371.052804</td>\n",
       "    </tr>\n",
       "    <tr>\n",
       "      <th>13</th>\n",
       "      <td>446.014642</td>\n",
       "      <td>388.710383</td>\n",
       "    </tr>\n",
       "    <tr>\n",
       "      <th>14</th>\n",
       "      <td>499.272975</td>\n",
       "      <td>499.272975</td>\n",
       "    </tr>\n",
       "    <tr>\n",
       "      <th>15</th>\n",
       "      <td>357.220168</td>\n",
       "      <td>357.220168</td>\n",
       "    </tr>\n",
       "    <tr>\n",
       "      <th>16</th>\n",
       "      <td>314.484272</td>\n",
       "      <td>314.484272</td>\n",
       "    </tr>\n",
       "    <tr>\n",
       "      <th>17</th>\n",
       "      <td>396.556169</td>\n",
       "      <td>316.305467</td>\n",
       "    </tr>\n",
       "  </tbody>\n",
       "</table>\n",
       "</div>"
      ],
      "text/plain": [
       "             0           1\n",
       "1   284.066363  284.066363\n",
       "2   462.010829  462.010829\n",
       "4   350.766214  350.766214\n",
       "5   261.732027  261.732027\n",
       "6   363.436032  359.703960\n",
       "7   357.338788  357.338788\n",
       "8   337.804978  311.833470\n",
       "9   295.938937  295.938937\n",
       "10  443.317723  415.894034\n",
       "11  332.795983  332.795983\n",
       "12  393.492712  371.052804\n",
       "13  446.014642  388.710383\n",
       "14  499.272975  499.272975\n",
       "15  357.220168  357.220168\n",
       "16  314.484272  314.484272\n",
       "17  396.556169  316.305467"
      ]
     },
     "execution_count": 799,
     "metadata": {},
     "output_type": "execute_result"
    }
   ],
   "source": [
    "pd.DataFrame.from_dict(brbrhehe).transpose(copy=False)"
   ]
  },
  {
   "cell_type": "code",
   "execution_count": null,
   "id": "dc2607bc",
   "metadata": {},
   "outputs": [],
   "source": [
    "fig = sns.barplot(x='Instance', y='Percentage Improvement', hue='type', data=df).set_title(\"Percentage Improvement Between Construction & Local Search\")"
   ]
  },
  {
   "cell_type": "code",
   "execution_count": 745,
   "id": "90631766",
   "metadata": {},
   "outputs": [
    {
     "data": {
      "text/plain": [
       "{3: [432, 6.312706860591748, 649, 0.07118570931622],\n",
       " 4: [520, 9.62283151849268, 668, 0.36446338223474156]}"
      ]
     },
     "execution_count": 745,
     "metadata": {},
     "output_type": "execute_result"
    }
   ],
   "source": [
    "results_vns4"
   ]
  },
  {
   "cell_type": "code",
   "execution_count": 801,
   "id": "59e34379",
   "metadata": {},
   "outputs": [
    {
     "data": {
      "text/plain": [
       "[304.2938120581775, 454.3213557127948]"
      ]
     },
     "execution_count": 801,
     "metadata": {},
     "output_type": "execute_result"
    }
   ],
   "source": [
    "[0.7*432+0.3*6.312706860591748, 0.7*649+0.3*0.07118570931622]"
   ]
  },
  {
   "cell_type": "code",
   "execution_count": 802,
   "id": "98060a6a",
   "metadata": {},
   "outputs": [
    {
     "data": {
      "text/plain": [
       "[366.8868494555478, 467.7093390146704]"
      ]
     },
     "execution_count": 802,
     "metadata": {},
     "output_type": "execute_result"
    }
   ],
   "source": [
    "[0.7*520+0.3*9.62283151849268, 0.7*668+0.3*0.36446338223474156]"
   ]
  },
  {
   "cell_type": "code",
   "execution_count": 791,
   "id": "d1c6cd28",
   "metadata": {},
   "outputs": [
    {
     "data": {
      "text/plain": [
       "{0: [555, 11.527897774128183, 505, 6.221581953183403],\n",
       " 1: [460, 5.405210005966189],\n",
       " 2: [476, 7.480154813573621],\n",
       " 4: [449, 11.506371834265519, 452, 4.329825345204716]}"
      ]
     },
     "execution_count": 791,
     "metadata": {},
     "output_type": "execute_result"
    }
   ],
   "source": [
    "results_vns4"
   ]
  },
  {
   "cell_type": "code",
   "execution_count": 795,
   "id": "1e782b25",
   "metadata": {},
   "outputs": [
    {
     "data": {
      "text/plain": [
       "{0: [534, 4.275692227504107],\n",
       " 2: [496, 11.476276298660457],\n",
       " 4: [463, 5.343047821322188],\n",
       " 5: [395, 10.165994296710156],\n",
       " 6: [469,\n",
       "  5.0138155826951705,\n",
       "  469,\n",
       "  0.6084916978131204,\n",
       "  469,\n",
       "  0.14076991465148764],\n",
       " 7: [467, 5.444456995806564],\n",
       " 8: [555, 10.278643655102275, 515, 1.8832890599565404],\n",
       " 10: [526, 11.059976705897554],\n",
       " 11: [464, 8.022416086404881],\n",
       " 15: [504, 3.331858994827379],\n",
       " 16: [467, 9.281652249396352, 421, 4.350311984021467],\n",
       " 24: [386, 2.8948112915345843],\n",
       " 25: [345, 5.290647243620096],\n",
       " 26: [507, 8.532044322274977, 478, 1.1446032800142072],\n",
       " 29: [454, 6.985770638399232, 443, 0.4577104168228189],\n",
       " 31: [406, 3.90141173118915],\n",
       " 32: [406, 7.205071615749538],\n",
       " 33: [563, 10.11383107122125, 519, 1.4531214046326997],\n",
       " 34: [506, 8.899905936854413],\n",
       " 37: [582, 7.376356769753377],\n",
       " 38: [434, 6.368043700238134]}"
      ]
     },
     "execution_count": 795,
     "metadata": {},
     "output_type": "execute_result"
    }
   ],
   "source": [
    "results_vns5"
   ]
  },
  {
   "cell_type": "code",
   "execution_count": 826,
   "id": "0a0d2d42",
   "metadata": {},
   "outputs": [],
   "source": [
    "results_vns6 = {}"
   ]
  },
  {
   "cell_type": "code",
   "execution_count": 825,
   "id": "ef023bac",
   "metadata": {},
   "outputs": [
    {
     "data": {
      "text/plain": [
       "{0: [411, 2.989807122284848, (703, 0.12854710519570853)],\n",
       " 4: [421, 2.433252945658441, (718, 0.1289646475391038)],\n",
       " 6: [545, 9.700142009443178, (703, 0.2117928541020875)],\n",
       " 8: [542, 9.277001699601499, (660, 0.12778362091763226)],\n",
       " 10: [633,\n",
       "  8.183262700005809,\n",
       "  633,\n",
       "  0.33510495552032765,\n",
       "  633,\n",
       "  0.15529341109593645,\n",
       "  633,\n",
       "  0.054545543201701636,\n",
       "  (682, 0.10207137865900312)],\n",
       " 11: [423, 5.43048895354747, (650, 0.4012546155782243)],\n",
       " 13: [503, 3.579463600678299, (774, 0.6927955768618151)],\n",
       " 16: [492,\n",
       "  7.680839823846942,\n",
       "  492,\n",
       "  1.0820051689134411,\n",
       "  (758, 0.21422847701686207)],\n",
       " 18: [498,\n",
       "  4.507130325176919,\n",
       "  451,\n",
       "  0.86585324626339,\n",
       "  (721, 0.22278017115040796)],\n",
       " 19: [384, 5.63593953795672, (829, 0.23926408357945703)]}"
      ]
     },
     "execution_count": 825,
     "metadata": {},
     "output_type": "execute_result"
    }
   ],
   "source": [
    "results_vns6"
   ]
  },
  {
   "cell_type": "code",
   "execution_count": 822,
   "id": "dc906981",
   "metadata": {},
   "outputs": [
    {
     "data": {
      "text/plain": [
       "{2: [457, 11.799705195723808, (686, 1.1351773329276411)],\n",
       " 3: [427,\n",
       "  5.23204425758355,\n",
       "  398,\n",
       "  1.3412078448750044,\n",
       "  (687, 0.3519734410554924)],\n",
       " 6: [471,\n",
       "  4.464727094759364,\n",
       "  413,\n",
       "  0.5216228081913271,\n",
       "  413,\n",
       "  0.2192795838002799,\n",
       "  (826, 0.12619842956024233)],\n",
       " 8: [483,\n",
       "  9.60700109705695,\n",
       "  464,\n",
       "  1.0681603896786507,\n",
       "  (809, 0.12883545676913152)]}"
      ]
     },
     "execution_count": 822,
     "metadata": {},
     "output_type": "execute_result"
    }
   ],
   "source": [
    "results_vns6"
   ]
  },
  {
   "cell_type": "code",
   "execution_count": 819,
   "id": "5d0b9814",
   "metadata": {},
   "outputs": [
    {
     "data": {
      "text/plain": [
       "{0: [492, 10.25539766527509, (723, 0.4944115879604093)],\n",
       " 1: [630,\n",
       "  11.458960010504615,\n",
       "  540,\n",
       "  2.8729838735603446,\n",
       "  (744, 0.22146044098209655)],\n",
       " 2: [658, 8.017649518447614, (714, 0.221425299017909)],\n",
       " 4: [439, 7.5884592963721405, (758, 0.2437355736127062)],\n",
       " 7: [459, 6.136283478505203, (680, 1.980446141649287)],\n",
       " 8: [434, 6.360604100344357, (753, 0.49984929653329635)],\n",
       " 9: [439, 9.123582395419682, (732, 0.2930011969154419)],\n",
       " 11: [503, 8.941166087284458, (633, 0.7513144863549803)]}"
      ]
     },
     "execution_count": 819,
     "metadata": {},
     "output_type": "execute_result"
    }
   ],
   "source": [
    "results_vns6"
   ]
  },
  {
   "cell_type": "markdown",
   "id": "4e892305",
   "metadata": {},
   "source": [
    "1) Do \"not VNS\" on only one construction.\n",
    "2) Work on an updating function for diameter."
   ]
  },
  {
   "cell_type": "code",
   "execution_count": 828,
   "id": "dfafb164",
   "metadata": {
    "scrolled": false
   },
   "outputs": [
    {
     "data": {
      "text/plain": [
       "{0: [633,\n",
       "  7.902003631778764,\n",
       "  604,\n",
       "  1.9008834550974958,\n",
       "  596,\n",
       "  0.30920766025558977,\n",
       "  588,\n",
       "  0.14039572460617428,\n",
       "  588,\n",
       "  0.08837251578751094,\n",
       "  (768, 0.055825865287407184)],\n",
       " 1: [701, 15.173226381663621, (759, 1.024541528179219)],\n",
       " 2: [506, 7.319870797975248, (604, 0.3741161080422972)],\n",
       " 3: [445, 7.631147944694915, (676, 0.35797805923742976)],\n",
       " 6: [391, 4.9795650431485985, (789, 0.4811268939614582)],\n",
       " 8: [396, 5.39085151756691, (663, 0.1496238100553839)],\n",
       " 9: [595, 12.467774421887775, (709, 0.9265397193721188)],\n",
       " 10: [543, 15.410001805287703, (733, 0.5221787248426424)],\n",
       " 13: [630, 9.340127197961154, (690, 0.15625140992401623)],\n",
       " 14: [469, 7.5334181924337535, (680, 0.21188457937988422)],\n",
       " 15: [464, 10.72071321158142, (809, 1.5076550930610435)],\n",
       " 17: [442, 4.727800484245548, (658, 0.6529113472514941)],\n",
       " 19: [459, 8.23374653245536, (680, 0.300661624718142)]}"
      ]
     },
     "execution_count": 828,
     "metadata": {},
     "output_type": "execute_result"
    }
   ],
   "source": [
    "results_vns6"
   ]
  },
  {
   "cell_type": "code",
   "execution_count": 892,
   "id": "dac5b0d1",
   "metadata": {},
   "outputs": [
    {
     "name": "stdout",
     "output_type": "stream",
     "text": [
      "719\n"
     ]
    }
   ],
   "source": [
    "district, centers_depots, combinations, adjacent_nodes, average_customers, average_demand,average_workload,shortest_paths_dict, construction_obj,construction_infeasible = construction_grasp(0.05, 0.3,0.7,G1)\n",
    "print(construction_obj)"
   ]
  },
  {
   "cell_type": "code",
   "execution_count": 893,
   "id": "0e929ab1",
   "metadata": {},
   "outputs": [
    {
     "name": "stdout",
     "output_type": "stream",
     "text": [
      "133\n",
      "45\n",
      "48\n",
      "53\n",
      "51\n",
      "32\n",
      "34\n",
      "52\n",
      "30\n",
      "12\n"
     ]
    }
   ],
   "source": [
    "for i in district:\n",
    "    print(len(district[i]))"
   ]
  },
  {
   "cell_type": "code",
   "execution_count": 989,
   "id": "bae05479",
   "metadata": {},
   "outputs": [],
   "source": [
    "results_vns6 = []"
   ]
  },
  {
   "cell_type": "code",
   "execution_count": 992,
   "id": "f84a9ee8",
   "metadata": {},
   "outputs": [
    {
     "data": {
      "text/plain": [
       "[530, 4.165325121466435, 800, 0.10141739066660778]"
      ]
     },
     "execution_count": 992,
     "metadata": {},
     "output_type": "execute_result"
    }
   ],
   "source": [
    "results_vns6"
   ]
  },
  {
   "cell_type": "code",
   "execution_count": 1072,
   "id": "4f0bbfcc",
   "metadata": {},
   "outputs": [],
   "source": [
    "algorithm3 = []"
   ]
  },
  {
   "cell_type": "code",
   "execution_count": 1075,
   "id": "fc7ecc61",
   "metadata": {},
   "outputs": [
    {
     "data": {
      "text/plain": [
       "[(603, 6.959753338694105),\n",
       " (630, 5.2670094258096265),\n",
       " (630, 6.878370865919744),\n",
       " (603, 7.495660352612301),\n",
       " (584, 6.369625910348052),\n",
       " (595, 6.905402152268083),\n",
       " (630, 7.095541319571703),\n",
       " (603, 6.694036359084217),\n",
       " (630, 7.348240694171203),\n",
       " (603, 6.805531598016358)]"
      ]
     },
     "execution_count": 1075,
     "metadata": {},
     "output_type": "execute_result"
    }
   ],
   "source": [
    "algorithm3"
   ]
  },
  {
   "cell_type": "code",
   "execution_count": 1074,
   "id": "4118924b",
   "metadata": {},
   "outputs": [
    {
     "name": "stdout",
     "output_type": "stream",
     "text": [
      "Local Optimum Reached\n",
      "Local Optimum Reached\n",
      "Local Optimum Reached\n",
      "Local Optimum Reached\n",
      "Local Optimum Reached\n",
      "Local Optimum Reached\n",
      "Local Optimum Reached\n",
      "Local Optimum Reached\n",
      "Local Optimum Reached\n",
      "Local Optimum Reached\n"
     ]
    }
   ],
   "source": [
    "for instance in range(10):\n",
    "    local_obj, local_infeasible, local_sol = localsearch_grasp(district,centers_depots,combinations,adjacent_nodes,average_customers, average_demand,average_workload,shortest_paths_dict,0.3,0.05,G1)\n",
    "    algorithm3.append((local_obj,local_infeasible))"
   ]
  },
  {
   "cell_type": "code",
   "execution_count": 1068,
   "id": "253edaa4",
   "metadata": {},
   "outputs": [],
   "source": [
    "algorithm2 = {}"
   ]
  },
  {
   "cell_type": "code",
   "execution_count": 1071,
   "id": "83629d63",
   "metadata": {},
   "outputs": [
    {
     "data": {
      "text/plain": [
       "{0: [645, 10.09720454736411, 610, 5.1942452397350145, 730, 0.6954143326079842],\n",
       " 1: [645, 10.09720454736411, 632, 3.909430261760777, 848, 1.13528133840799],\n",
       " 2: [645,\n",
       "  10.09720454736411,\n",
       "  613,\n",
       "  6.04955381004891,\n",
       "  613,\n",
       "  1.354240849693296,\n",
       "  814,\n",
       "  0.3791669499171595],\n",
       " 3: [645, 10.09720454736411, 630, 4.413562341310806, 822, 0.8498846431293271],\n",
       " 4: [645, 10.09720454736411, 607, 6.805875863446412, 607, 3.554642389516745]}"
      ]
     },
     "execution_count": 1071,
     "metadata": {},
     "output_type": "execute_result"
    }
   ],
   "source": [
    "algorithm2"
   ]
  },
  {
   "cell_type": "code",
   "execution_count": null,
   "id": "6b73c689",
   "metadata": {},
   "outputs": [],
   "source": [
    "for instance in range(10):\n",
    "    algorithm2[instance] = []\n",
    "    incumbant_solution = cp.deepcopy(district)\n",
    "    current = 0.7*construction_obj+0.3*construction_infeasible\n",
    "    algorithm2[instance].append(construction_obj)\n",
    "    algorithm2[instance].append(construction_infeasible)\n",
    "    failure = 0\n",
    "\n",
    "    while failure <2:\n",
    "        k = 1\n",
    "        while k <= 3:\n",
    "            print(\"-----------------------\")\n",
    "            print(\"current neighborhood is\")\n",
    "            print(k)\n",
    "            print(\"-----------------------\")\n",
    "            shaking_obj, shaking_infeasible, shaking_sol = shaking(incumbant_solution,centers_depots,combinations,adjacent_nodes,average_customers, average_demand,average_workload,shortest_paths_dict,0.3,0.05,G1,k)\n",
    "            local_obj, local_infeasible, local_sol = localsearch_grasp(shaking_sol,centers_depots,combinations,adjacent_nodes,average_customers, average_demand,average_workload,shortest_paths_dict,0.3,0.05,G1)\n",
    "            new = 0.7*local_obj+0.3*local_infeasible\n",
    "            if new<current:\n",
    "                best_solution = cp.deepcopy(local_sol)\n",
    "                algorithm2[instance].append(local_obj)\n",
    "                algorithm2[instance].append(local_infeasible)\n",
    "                k = 1\n",
    "                current = cp.deepcopy(new)\n",
    "                incumbant_solution = local_sol\n",
    "            else:\n",
    "                k = k+1\n",
    "    #             incumbant_solution = local_sol\n",
    "                if k == 3:\n",
    "                    failure = failure +1\n",
    "                    print(\"We failed boi\", failure)\n",
    "\n",
    "    algorithm2[instance].append(local_obj)\n",
    "    algorithm2[instance].append(local_infeasible)"
   ]
  },
  {
   "cell_type": "code",
   "execution_count": 1063,
   "id": "a4593ec6",
   "metadata": {},
   "outputs": [],
   "source": [
    "algorithm1 = {}"
   ]
  },
  {
   "cell_type": "code",
   "execution_count": 1066,
   "id": "2f177545",
   "metadata": {},
   "outputs": [
    {
     "data": {
      "text/plain": [
       "{0: [645,\n",
       "  10.09720454736411,\n",
       "  613,\n",
       "  1.5862441996617098,\n",
       "  604,\n",
       "  0.15424185702394425,\n",
       "  600,\n",
       "  0.08294423360739722,\n",
       "  600,\n",
       "  0.06226774490488151,\n",
       "  600,\n",
       "  0.05311289819877767,\n",
       "  600,\n",
       "  0.03564262274446387,\n",
       "  600,\n",
       "  0.03468481191739548],\n",
       " 1: [645,\n",
       "  10.09720454736411,\n",
       "  576,\n",
       "  0.5741671626519667,\n",
       "  556,\n",
       "  0.22271881514609498],\n",
       " 2: [645, 10.09720454736411, 530, 2.375182044875624],\n",
       " 3: [645, 10.09720454736411, 630, 2.0927654387063965, 630, 0.5217918127588647],\n",
       " 4: [645,\n",
       "  10.09720454736411,\n",
       "  627,\n",
       "  1.895815030647117,\n",
       "  623,\n",
       "  0.16046507570373417,\n",
       "  610,\n",
       "  0.14170407051017422]}"
      ]
     },
     "execution_count": 1066,
     "metadata": {},
     "output_type": "execute_result"
    }
   ],
   "source": [
    "algorithm1"
   ]
  },
  {
   "cell_type": "code",
   "execution_count": null,
   "id": "80da89c0",
   "metadata": {},
   "outputs": [],
   "source": [
    "for instance in range(10):\n",
    "    algorithm1[instance] = []\n",
    "    print(\"***********************\")\n",
    "    print(\"Performing Instance\")\n",
    "    print(instance)\n",
    "    print(\"***********************\")\n",
    "    k = 1\n",
    "    best_solution = cp.deepcopy(district)\n",
    "    current = 0.7*construction_obj+0.3*construction_infeasible\n",
    "    algorithm1[instance].append(construction_obj)\n",
    "    algorithm1[instance].append(construction_infeasible)\n",
    "    while k <= 3:\n",
    "        print(\"-----------------------\")\n",
    "        print(\"current neighborhood is\")\n",
    "        print(k)\n",
    "        print(\"-----------------------\")\n",
    "        shaking_obj, shaking_infeasible, shaking_sol = shaking(best_solution,centers_depots,combinations,adjacent_nodes,average_customers, average_demand,average_workload,shortest_paths_dict,0.3,0.05,G1,k)\n",
    "        local_obj, local_infeasible, local_sol = localsearch_grasp(shaking_sol,centers_depots,combinations,adjacent_nodes,average_customers, average_demand,average_workload,shortest_paths_dict,0.3,0.05,G1)\n",
    "        local_obj, local_infeasible, local_sol = localsearch_grasp(local_sol,centers_depots,combinations,adjacent_nodes,average_customers, average_demand,average_workload,shortest_paths_dict,0.3,0.05,G1)\n",
    "        local_obj, local_infeasible, local_sol = localsearch_grasp(local_sol,centers_depots,combinations,adjacent_nodes,average_customers, average_demand,average_workload,shortest_paths_dict,0.3,0.05,G1)\n",
    "        new = 0.7*local_obj+0.3*local_infeasible\n",
    "        \n",
    "        if new<current:\n",
    "            best_solution = cp.deepcopy(local_sol)\n",
    "            algorithm1[instance].append(local_obj)\n",
    "            algorithm1[instance].append(local_infeasible)\n",
    "            k = 1\n",
    "            current = cp.deepcopy(new)\n",
    "            print(new)\n",
    "        else:\n",
    "            k = k+1\n",
    "\n",
    "algorithm1[instance].append((local_obj,local_infeasible))"
   ]
  },
  {
   "cell_type": "code",
   "execution_count": 24,
   "id": "45a6902d",
   "metadata": {},
   "outputs": [],
   "source": [
    "@dataclass\n",
    "class Best_Solutions:\n",
    "    id : uuid.UUID\n",
    "    obj : int\n",
    "    inf : float\n",
    "    RDB: float\n",
    "    imp: float\n",
    "    allocation : dict\n",
    "\n",
    "    def __lt__(self,other):\n",
    "        return self.obj<other.obj\n",
    "\n",
    "sorted_elite_solutions = []"
   ]
  },
  {
   "cell_type": "code",
   "execution_count": 388,
   "id": "0dc399aa",
   "metadata": {},
   "outputs": [],
   "source": [
    "trial_solutions = {}\n",
    "for i in range(len((sorted_elite_solutions))):\n",
    "    trial_solutions[i] = sorted_elite_solutions[i].allocation"
   ]
  },
  {
   "cell_type": "code",
   "execution_count": 393,
   "id": "6f6664c0",
   "metadata": {},
   "outputs": [],
   "source": [
    "elite_solutions = {}\n",
    "for i in range(len((sorted_elite_solutions))):\n",
    "    elite_solutions[i] = sorted_elite_solutions[i].allocation"
   ]
  },
  {
   "cell_type": "code",
   "execution_count": null,
   "id": "92a10155",
   "metadata": {},
   "outputs": [],
   "source": [
    "sorted_trial_solutions = []\n",
    "for i in range(20):\n",
    "    try:\n",
    "        district, centers_depots, combinations, adjacent_nodes, average_customers, average_demand,average_workload,shortest_paths_dict, construction_obj,local_infeasible_construction = construction_grasp(0.05, 0.3,0.7,G1)\n",
    "        best_obj, local_infeasible_lc,best_sol = localsearch_grasp(district,centers_depots,combinations,adjacent_nodes,average_customers, average_demand,average_workload,shortest_paths_dict,0.3,0.05,G1)\n",
    "        print(i)\n",
    "        bisect.insort_left(sorted_trial_solutions, Best_Solutions(uuid.uuid1(), best_obj, local_infeasible_lc, ((construction_obj-best_obj)/construction_obj)*100,((local_infeasible_construction-local_infeasible_lc)/local_infeasible_construction)*100,best_sol))\n",
    "    except:\n",
    "        print(\"Did not work here\")\n",
    "        pass"
   ]
  },
  {
   "cell_type": "code",
   "execution_count": 173,
   "id": "84f78d50",
   "metadata": {},
   "outputs": [],
   "source": [
    "from networkx.algorithms import bipartite\n",
    "from networkx.algorithms.bipartite.matrix import biadjacency_matrix\n",
    "from networkx.algorithms.bipartite import sets as bipartite_sets\n",
    "from networkx.algorithms.bipartite import minimum_weight_full_matching"
   ]
  },
  {
   "cell_type": "code",
   "execution_count": 163,
   "id": "63b7304b",
   "metadata": {},
   "outputs": [],
   "source": [
    "brr = list(sorted_elite_solutions[0].allocation.keys())\n",
    "brr2 = list(sorted_elite_solutions[1].allocation.keys())"
   ]
  },
  {
   "cell_type": "code",
   "execution_count": 165,
   "id": "6872cb55",
   "metadata": {},
   "outputs": [],
   "source": [
    "removed = []\n",
    "for i in brr:\n",
    "    if i in brr2:\n",
    "        removed.append(i)\n",
    "        brr.remove(i)\n",
    "        brr2.remove(i)"
   ]
  },
  {
   "cell_type": "code",
   "execution_count": 170,
   "id": "ee76de66",
   "metadata": {},
   "outputs": [],
   "source": [
    "B = nx.Graph()\n",
    "# Add nodes with the node attribute \"bipartite\"\n",
    "B.add_nodes_from(brr, bipartite=0)\n",
    "B.add_nodes_from(brr2, bipartite=1)\n",
    "B.add_edges_from(centers_comb)\n",
    "\n",
    "#brr = list(sorted_elite_solutions[0].allocation.keys())"
   ]
  },
  {
   "cell_type": "code",
   "execution_count": 198,
   "id": "9010cc20",
   "metadata": {},
   "outputs": [],
   "source": [
    "for i in brr:\n",
    "    if i in sorted_elite_solutions[2].allocation.keys():\n",
    "        print(i)"
   ]
  },
  {
   "cell_type": "code",
   "execution_count": 171,
   "id": "323c87fa",
   "metadata": {},
   "outputs": [],
   "source": [
    "nx.set_edge_attributes(B, values = centers_shortest, name = \"distance\")"
   ]
  },
  {
   "cell_type": "code",
   "execution_count": 166,
   "id": "2e198069",
   "metadata": {},
   "outputs": [],
   "source": [
    "centers_comb = list(itertools.product(brr, brr2))"
   ]
  },
  {
   "cell_type": "code",
   "execution_count": 167,
   "id": "f4474d3d",
   "metadata": {},
   "outputs": [],
   "source": [
    "comb_lengths = []\n",
    "for i in brr:\n",
    "    for x in brr2:\n",
    "        comb_lengths.append((shortest_paths_dict[x][i]))"
   ]
  },
  {
   "cell_type": "code",
   "execution_count": 354,
   "id": "52aaa334",
   "metadata": {},
   "outputs": [],
   "source": [
    "for i in brr:\n",
    "    if i in brr2:\n",
    "        print(i)"
   ]
  },
  {
   "cell_type": "code",
   "execution_count": 168,
   "id": "b16d5d5e",
   "metadata": {},
   "outputs": [],
   "source": [
    "centers_shortest = dict(zip(centers_comb, comb_lengths))"
   ]
  },
  {
   "cell_type": "code",
   "execution_count": 174,
   "id": "6554e333",
   "metadata": {},
   "outputs": [],
   "source": [
    "match2 = minimum_weight_full_matching(B, top_nodes=brr, weight='distance')"
   ]
  },
  {
   "cell_type": "code",
   "execution_count": 175,
   "id": "558a3084",
   "metadata": {},
   "outputs": [],
   "source": [
    "g_match2=nx.Graph()\n",
    "for kk,vv in match2.items():\n",
    "    g_match2.add_edge(kk,vv)"
   ]
  },
  {
   "cell_type": "code",
   "execution_count": 253,
   "id": "a9090dad",
   "metadata": {},
   "outputs": [],
   "source": [
    "a = [elem for elem in brr2 if elem not in brr ]"
   ]
  },
  {
   "cell_type": "code",
   "execution_count": 254,
   "id": "741d36bb",
   "metadata": {},
   "outputs": [],
   "source": [
    "b = [elem for elem in brr if elem not in brr2 ]"
   ]
  },
  {
   "cell_type": "code",
   "execution_count": 244,
   "id": "e8c93abb",
   "metadata": {},
   "outputs": [
    {
     "name": "stdout",
     "output_type": "stream",
     "text": [
      "0\n",
      "1\n",
      "2\n",
      "3\n",
      "4\n",
      "5\n",
      "6\n",
      "7\n",
      "8\n",
      "9\n"
     ]
    }
   ],
   "source": [
    "for i in range(len(brr)):\n",
    "    for j in range(len(brr2)):\n",
    "        if brr[i] == brr[j]:\n",
    "            print(i)"
   ]
  },
  {
   "cell_type": "code",
   "execution_count": 238,
   "id": "7ba4c0bf",
   "metadata": {},
   "outputs": [
    {
     "data": {
      "text/plain": [
       "'20_a'"
      ]
     },
     "execution_count": 238,
     "metadata": {},
     "output_type": "execute_result"
    }
   ],
   "source": [
    "str(20)+\"_a\""
   ]
  },
  {
   "cell_type": "code",
   "execution_count": 77,
   "id": "d74aa872",
   "metadata": {},
   "outputs": [],
   "source": [
    "%lprun -f localsearch_grasp localsearch_grasp(district,centers_depots,combinations,adjacent_nodes,average_customers, average_demand,average_workload,shortest_paths_dict,0.3,0.05,G1)"
   ]
  },
  {
   "cell_type": "code",
   "execution_count": 180,
   "id": "8f91291c",
   "metadata": {},
   "outputs": [],
   "source": [
    "centers_matchings = [(k, v) for k, v in match2.items()]"
   ]
  },
  {
   "cell_type": "code",
   "execution_count": 194,
   "id": "e119544f",
   "metadata": {},
   "outputs": [
    {
     "data": {
      "text/plain": [
       "[(356, 365),\n",
       " (549, 629),\n",
       " (172, 144),\n",
       " (28, 33),\n",
       " (398, 504),\n",
       " (623, 621),\n",
       " (212, 240),\n",
       " (380, 301),\n",
       " (127, 344),\n",
       " (645, 645)]"
      ]
     },
     "execution_count": 194,
     "metadata": {},
     "output_type": "execute_result"
    }
   ],
   "source": [
    "centers_matchings"
   ]
  },
  {
   "cell_type": "code",
   "execution_count": 300,
   "id": "059b6b70",
   "metadata": {},
   "outputs": [],
   "source": [
    "temp = set(centers_matchings) & {(b, a) for a, b in centers_matchings}\n",
    "centers_matchings = {(a, b) for a, b in temp if a < b}"
   ]
  },
  {
   "cell_type": "code",
   "execution_count": 188,
   "id": "24777332",
   "metadata": {},
   "outputs": [],
   "source": [
    "centers_matchings = centers_matchings[:int(len(centers_matchings)/2)]"
   ]
  },
  {
   "cell_type": "code",
   "execution_count": 193,
   "id": "289b0c67",
   "metadata": {},
   "outputs": [],
   "source": [
    "centers_matchings.append((removed[0],removed[0]))"
   ]
  },
  {
   "cell_type": "code",
   "execution_count": 145,
   "id": "a4887dc3",
   "metadata": {},
   "outputs": [
    {
     "data": {
      "image/png": "[encoded data removed]",
      "text/plain": [
       "<Figure size 936x504 with 1 Axes>"
      ]
     },
     "metadata": {
      "needs_background": "light"
     },
     "output_type": "display_data"
    }
   ],
   "source": [
    "plt.figure(figsize=(13, 7))\n",
    "\n",
    "fig = sns.barplot(x='Instance', y='Percentage Improvement', hue='type', data=df).set_title(\"Percentage Improvement Between Construction & Local Search\")\n",
    "#fig.title(\"Percentage Improvement Between Construction & Local Search\")"
   ]
  },
  {
   "cell_type": "code",
   "execution_count": 31,
   "id": "0e8f20bc",
   "metadata": {},
   "outputs": [
    {
     "data": {
      "text/plain": [
       "dict_keys([20, 28, 9])"
      ]
     },
     "execution_count": 31,
     "metadata": {},
     "output_type": "execute_result"
    }
   ],
   "source": [
    "district.keys()"
   ]
  },
  {
   "cell_type": "code",
   "execution_count": null,
   "id": "1296548a",
   "metadata": {},
   "outputs": [],
   "source": [
    "districts_keys = list(local_sol.keys())\n",
    "\n",
    "colorss = [\"darkorange\",\"lawngreen\", \"maroon\"]\n",
    "\n",
    "color_map = {}\n",
    "for node in list(G1.nodes):\n",
    "    color_map[node] = \"blue\"\n",
    "    for k in range(len(districts_keys)):\n",
    "        if node in local_sol[districts_keys[k]]:\n",
    "            color_map[node] = colorss[k]\n",
    "\n",
    "color_map = list(color_map.values())\n",
    "\n",
    "plt.figure(3,figsize=(12,12))\n",
    "nx.draw(G1,node_color=color_map, pos=grid_pos,with_labels = True)\n",
    "plt.show()"
   ]
  },
  {
   "cell_type": "code",
   "execution_count": 37,
   "id": "162f77e3",
   "metadata": {},
   "outputs": [
    {
     "name": "stdout",
     "output_type": "stream",
     "text": [
      "Local Optimum Reached\n"
     ]
    }
   ],
   "source": [
    "local_obj, local_infeasible, local_sol = localsearch_grasp(district,centers_depots,combinations,adjacent_nodes,average_customers, average_demand,average_workload,shortest_paths_dict,0.3,0.05,G1)"
   ]
  },
  {
   "cell_type": "code",
   "execution_count": 497,
   "id": "ca747536",
   "metadata": {},
   "outputs": [],
   "source": [
    "G2 = nx.Graph()\n",
    "G2.add_nodes_from(list(trial_districts.keys()))\n",
    "G2.add_edge(34,81)\n",
    "G2.add_edge(34,258)\n",
    "G2.add_edge(34,707)\n",
    "G2.add_edge(34,359)\n",
    "G2.add_edge(258,269)\n",
    "G2.add_edge(258,134)\n",
    "G2.add_edge(258,359)\n",
    "G2.add_edge(656,707)\n",
    "G2.add_edge(656,359)\n",
    "G2.add_edge(656,668)\n",
    "G2.add_edge(707,359)\n",
    "G2.add_edge(668,511)\n",
    "G2.add_edge(668,269)\n",
    "G2.add_edge(134,269)\n",
    "G2.add_edge(511,269)"
   ]
  },
  {
   "cell_type": "code",
   "execution_count": 480,
   "id": "71824cfb",
   "metadata": {},
   "outputs": [],
   "source": [
    "positions = {}\n",
    "for i in G2.nodes:\n",
    "    if i in grid_pos:\n",
    "        positions[i]=grid_pos[i]\n",
    "#grid_pos"
   ]
  },
  {
   "cell_type": "code",
   "execution_count": null,
   "id": "77c20959",
   "metadata": {},
   "outputs": [],
   "source": [
    "[[34, 359, 258],\n",
    " [34, 707, 359],\n",
    " [656, 707, 359],\n",
    " [269, 668, 656, 359, 258],\n",
    " [269, 511, 668],\n",
    " [269, 134, 258]]"
   ]
  },
  {
   "cell_type": "code",
   "execution_count": 496,
   "id": "10bdaa78",
   "metadata": {},
   "outputs": [
    {
     "data": {
      "image/png": "[encoded data removed]",
      "text/plain": [
       "<Figure size 864x864 with 1 Axes>"
      ]
     },
     "metadata": {},
     "output_type": "display_data"
    }
   ],
   "source": [
    "plt.figure(3,figsize=(12,12))\n",
    "nx.draw(G2, pos=grid_pos,with_labels = True)\n",
    "plt.show()"
   ]
  },
  {
   "cell_type": "code",
   "execution_count": 500,
   "id": "41fef59e",
   "metadata": {},
   "outputs": [],
   "source": [
    "karate = nx.generators.social.karate_club_graph()\n",
    "communities = list(nx.community.asyn_fluidc(karate, 4))"
   ]
  },
  {
   "cell_type": "code",
   "execution_count": 501,
   "id": "f29644b0",
   "metadata": {},
   "outputs": [
    {
     "data": {
      "text/plain": [
       "[{4, 5, 6, 10, 16},\n",
       " {23, 24, 25, 26, 27, 29, 31},\n",
       " {0, 1, 2, 3, 7, 11, 12, 13, 17, 19, 21},\n",
       " {8, 9, 14, 15, 18, 20, 22, 28, 30, 32, 33}]"
      ]
     },
     "execution_count": 501,
     "metadata": {},
     "output_type": "execute_result"
    }
   ],
   "source": [
    "communities"
   ]
  },
  {
   "cell_type": "code",
   "execution_count": 498,
   "id": "e1b124eb",
   "metadata": {},
   "outputs": [
    {
     "data": {
      "text/plain": [
       "[[34, 359, 258],\n",
       " [34, 707, 359],\n",
       " [656, 707, 359],\n",
       " [269, 668, 656, 359, 258],\n",
       " [269, 511, 668],\n",
       " [269, 134, 258]]"
      ]
     },
     "execution_count": 498,
     "metadata": {},
     "output_type": "execute_result"
    }
   ],
   "source": [
    "nx.cycle_basis(G2, root=None)"
   ]
  },
  {
   "cell_type": "code",
   "execution_count": 475,
   "id": "031c44fe",
   "metadata": {},
   "outputs": [
    {
     "data": {
      "text/plain": [
       "[81, 258, 656, 668, 34, 359, 134, 269, 511, 707]"
      ]
     },
     "execution_count": 475,
     "metadata": {},
     "output_type": "execute_result"
    }
   ],
   "source": [
    "list(trial_districts.keys())"
   ]
  },
  {
   "cell_type": "code",
   "execution_count": 236,
   "id": "7f848ae8",
   "metadata": {},
   "outputs": [
    {
     "data": {
      "text/plain": [
       "[156, 157, 184, 155, 211, 130, 185, 212, 186, 213]"
      ]
     },
     "execution_count": 236,
     "metadata": {},
     "output_type": "execute_result"
    }
   ],
   "source": [
    "nodegobrr"
   ]
  },
  {
   "cell_type": "code",
   "execution_count": 470,
   "id": "40043a19",
   "metadata": {},
   "outputs": [],
   "source": [
    "trial_districts = cp.deepcopy(district)"
   ]
  },
  {
   "cell_type": "code",
   "execution_count": 469,
   "id": "31d03560",
   "metadata": {},
   "outputs": [],
   "source": [
    "trail_districts2 = cp.deepcopy(trial_districts)"
   ]
  },
  {
   "cell_type": "code",
   "execution_count": 432,
   "id": "41b72da2",
   "metadata": {},
   "outputs": [
    {
     "data": {
      "text/plain": [
       "35"
      ]
     },
     "execution_count": 432,
     "metadata": {},
     "output_type": "execute_result"
    }
   ],
   "source": [
    "int(floor(0.7*len(trial_districts[34])))"
   ]
  },
  {
   "cell_type": "code",
   "execution_count": null,
   "id": "9a6f8571",
   "metadata": {},
   "outputs": [],
   "source": [
    "def split_district(district,percentage)\n",
    "    starting_node = random.choice(district)\n",
    "    partial_district = [starting_node]\n",
    "    while len(partial_district) < int(floor(percentage*len(district))):\n",
    "        chosen_node = random.choice(district)\n",
    "        if nx.has_path(G1.subgraph(partial_district))"
   ]
  },
  {
   "cell_type": "code",
   "execution_count": 464,
   "id": "82c26a82",
   "metadata": {},
   "outputs": [],
   "source": [
    "nodegobrr= [157]\n",
    "trial_districts[134].remove(157)\n",
    "while len(nodegobrr) < int(floor(0.4*len(trial_districts[134]))):\n",
    "    chosen_node = random.choice(trial_districts[134])\n",
    "    if nx.has_path(G1.subgraph(nodegobrr+[chosen_node]),nodegobrr[0],chosen_node) == True:\n",
    "        nodegobrr.append(chosen_node)\n",
    "        trial_districts[134].remove(chosen_node)\n",
    "        paths_list = []\n",
    "        for items in trial_districts[134]:\n",
    "            paths_list.append(nx.has_path(G1.subgraph(trial_districts[134]+[134]),134,items))\n",
    "        if False in paths_list:\n",
    "            trial_districts[134].append(chosen_node)\n",
    "            nodegobrr.remove(chosen_node)"
   ]
  },
  {
   "cell_type": "code",
   "execution_count": 438,
   "id": "06f10e60",
   "metadata": {},
   "outputs": [
    {
     "name": "stdout",
     "output_type": "stream",
     "text": [
      "worked\n",
      "worked\n",
      "worked\n",
      "worked\n",
      "worked\n",
      "worked\n",
      "worked\n",
      "worked\n",
      "worked\n",
      "worked\n",
      "worked\n",
      "worked\n",
      "worked\n",
      "worked\n",
      "worked\n",
      "worked\n",
      "worked\n",
      "worked\n",
      "worked\n"
     ]
    }
   ],
   "source": [
    "nodegobrr= [157]\n",
    "trial_districts[134].remove(157)\n",
    "while len(nodegobrr) < int(floor(0.4*len(trial_districts[34]))):\n",
    "    for node in trial_districts[134]:\n",
    "        for i in nodegobrr:\n",
    "            if node in adjacent_nodes[i]:\n",
    "                if node not in nodegobrr:\n",
    "#                     print(\"okay?\")\n",
    "                    nodegobrr.append(node)\n",
    "                    trial_districts[134].remove(node)\n",
    "                    paths_list = []\n",
    "                    for items in trial_districts[134]:\n",
    "                        paths_list.append(nx.has_path(G1.subgraph(trial_districts[134]+[134]),134,items))\n",
    "                    if False in paths_list:\n",
    "#                         print(\"lol\")\n",
    "                        trial_districts[134].append(node)\n",
    "                        nodegobrr.remove(node)\n",
    "                    else:\n",
    "                        print(\"worked\")"
   ]
  }
 ],
 "metadata": {
  "kernelspec": {
   "display_name": "Python 3 (ipykernel)",
   "language": "python",
   "name": "python3"
  },
  "language_info": {
   "codemirror_mode": {
    "name": "ipython",
    "version": 3
   },
   "file_extension": ".py",
   "mimetype": "text/x-python",
   "name": "python",
   "nbconvert_exporter": "python",
   "pygments_lexer": "ipython3",
   "version": "3.7.10"
  }
 },
 "nbformat": 4,
 "nbformat_minor": 5
}
